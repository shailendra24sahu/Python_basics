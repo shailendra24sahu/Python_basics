{
 "cells": [
  {
   "cell_type": "markdown",
   "id": "108e7602",
   "metadata": {},
   "source": [
    "Q1. How do you distinguish between shutil.copy() and shutil.copytree()?"
   ]
  },
  {
   "cell_type": "markdown",
   "id": "95b5d5fd",
   "metadata": {},
   "source": [
    "In Python's `shutil` module, both `shutil.copy()` and `shutil.copytree()` functions are used for copying files and directories, but they have different behaviors and usage:\n",
    "\n",
    "1. `shutil.copy(src, dst)`:\n",
    "   - The `shutil.copy()` function is used to copy a single file from the source (`src`) location to the destination (`dst`) location.\n",
    "   - It creates a new file at the destination path and copies the contents of the source file to the destination file.\n",
    "   - If the destination file already exists, it will be overwritten by the copied file.\n",
    "   - Example usage:\n",
    "\n",
    "     ```python\n",
    "     import shutil\n",
    "\n",
    "     shutil.copy('source_file.txt', 'destination_file.txt')\n",
    "     ```\n",
    "\n",
    "2. `shutil.copytree(src, dst)`:\n",
    "   - The `shutil.copytree()` function is used to recursively copy an entire directory tree from the source (`src`) directory to the destination (`dst`) directory.\n",
    "   - It creates a new directory at the destination path and copies all files and subdirectories from the source directory to the destination directory.\n",
    "   - If the destination directory already exists, it will raise a `FileExistsError`.\n",
    "   - Example usage:\n",
    "\n",
    "     ```python\n",
    "     import shutil\n",
    "\n",
    "     shutil.copytree('source_directory', 'destination_directory')\n",
    "     ```"
   ]
  },
  {
   "cell_type": "code",
   "execution_count": null,
   "id": "aafc6154",
   "metadata": {},
   "outputs": [],
   "source": []
  },
  {
   "cell_type": "markdown",
   "id": "1fec0354",
   "metadata": {},
   "source": [
    "Q2. What function is used to rename files??"
   ]
  },
  {
   "cell_type": "markdown",
   "id": "3c19f1e2",
   "metadata": {},
   "source": [
    "In Python, we can use the `os` module to rename files. The `os.rename()` function is used to rename files or directories. Here's an example of how to use it:\n",
    "\n",
    "```python\n",
    "import os\n",
    "\n",
    "# Specify the current name of the file\n",
    "current_name = 'old_name.txt'\n",
    "\n",
    "# Specify the new name of the file\n",
    "new_name = 'new_name.txt'\n",
    "\n",
    "# Rename the file\n",
    "os.rename(current_name, new_name)\n",
    "```\n",
    "\n",
    "In the above example, `current_name` represents the current name of the file we want to rename, and `new_name` represents the desired new name for the file. we need to pass these two arguments to the `os.rename()` function to rename the file. Keep in mind that both the current and new names should include the file extension.\n",
    "\n",
    "Make sure we have the necessary permissions to perform file operations in the specified directory, and ensure that the file we want to rename exists before executing the code."
   ]
  },
  {
   "cell_type": "code",
   "execution_count": null,
   "id": "17394bc7",
   "metadata": {},
   "outputs": [],
   "source": []
  },
  {
   "cell_type": "markdown",
   "id": "27d09e69",
   "metadata": {},
   "source": [
    "Q3. What is the difference between the delete functions in the send2trash and shutil modules?"
   ]
  },
  {
   "cell_type": "markdown",
   "id": "add19895",
   "metadata": {},
   "source": [
    "The `send2trash` and `shutil` modules provide different ways of deleting files or directories in Python, and their main differences lie in their functionality and behavior:\n",
    "\n",
    "1. `send2trash` module:\n",
    "   - The `send2trash` module is primarily used for sending files or directories to the operating system's trash or recycle bin, instead of permanently deleting them.\n",
    "   - It provides a `send2trash()` function that moves the specified file or directory to the trash or recycle bin, depending on the platform.\n",
    "   - This module is useful when we want to give the user the ability to recover deleted files or if we want to provide an extra layer of safety before permanently deleting files.\n",
    "\n",
    "2. `shutil` module:\n",
    "   - The `shutil` module offers a wide range of file and directory operations, including file deletion.\n",
    "   - It provides the `shutil.rmtree()` function to delete a directory and its entire contents recursively.\n",
    "   - Additionally, `shutil` has the `os.remove()` function to delete individual files.\n",
    "   - When using `shutil` functions, the files or directories are permanently deleted without the possibility of recovery.\n"
   ]
  },
  {
   "cell_type": "code",
   "execution_count": null,
   "id": "93e17085",
   "metadata": {},
   "outputs": [],
   "source": []
  },
  {
   "cell_type": "markdown",
   "id": "cc959367",
   "metadata": {},
   "source": [
    "Q4.ZipFile objects have a close() method just like File objects’ close() method. What ZipFile method is\n",
    "equivalent to File objects’ open() method?"
   ]
  },
  {
   "cell_type": "markdown",
   "id": "4b089d50",
   "metadata": {},
   "source": [
    "The equivalent method in the `ZipFile` class to the `open()` method of `File` objects is the `ZipFile()` constructor. \n",
    "\n",
    "The `ZipFile()` constructor is used to create a new `ZipFile` object that represents a ZIP archive. It allows us to open an existing ZIP file or create a new one.\n",
    "\n",
    "Here's an example of how to use the `ZipFile()` constructor to open an existing ZIP file:\n",
    "\n",
    "```python\n",
    "import zipfile\n",
    "\n",
    "# Open an existing ZIP file\n",
    "zip_file = zipfile.ZipFile('example.zip', 'r')\n",
    "\n",
    "# Access the contents of the ZIP file\n",
    "\n",
    "# Close the ZIP file when finished\n",
    "zip_file.close()\n",
    "```\n",
    "\n",
    "In the above example, the `ZipFile()` constructor is used to open the `example.zip` file in read mode (`'r'`). After accessing the contents of the ZIP file, the `close()` method is called on the `ZipFile` object to close the ZIP file.\n",
    "\n",
    "It's worth noting that the `ZipFile()` constructor can also be used to create a new ZIP file by specifying a different mode, such as `'w'` for write mode or `'a'` for append mode."
   ]
  },
  {
   "cell_type": "code",
   "execution_count": null,
   "id": "1a36a22f",
   "metadata": {},
   "outputs": [],
   "source": []
  },
  {
   "cell_type": "markdown",
   "id": "b2b6de7f",
   "metadata": {},
   "source": [
    "Q5. Create a programme that searches a folder tree for files with a certain file extension (such as .pdf\n",
    "or .jpg). Copy these files from whatever location they are in to a new folder."
   ]
  },
  {
   "cell_type": "markdown",
   "id": "0910c2cc",
   "metadata": {},
   "source": [
    "Here's a program that searches a folder tree for files with a specified file extension and copies them to a new folder:\n",
    "\n",
    "```python\n",
    "import os\n",
    "import shutil\n",
    "\n",
    "def copy_files_with_extension(source_folder, destination_folder, file_extension):\n",
    "    for root, dirs, files in os.walk(source_folder):\n",
    "        for file in files:\n",
    "            if file.endswith(file_extension):\n",
    "                source_path = os.path.join(root, file)\n",
    "                destination_path = os.path.join(destination_folder, file)\n",
    "                shutil.copy2(source_path, destination_path)\n",
    "                print(f\"Copied {file} to {destination_folder}\")\n",
    "\n",
    "# Specify the source folder to search for files\n",
    "source_folder = 'path/to/source/folder'\n",
    "\n",
    "# Specify the destination folder to copy the files\n",
    "destination_folder = 'path/to/destination/folder'\n",
    "\n",
    "# Specify the file extension to search for (e.g., '.pdf', '.jpg')\n",
    "file_extension = '.pdf'\n",
    "\n",
    "# Call the function to copy the files\n",
    "copy_files_with_extension(source_folder, destination_folder, file_extension)\n",
    "```\n",
    "\n",
    "In the above program, we need to replace `'path/to/source/folder'` with the actual path of the folder where we want to search for files. Similarly, replace `'path/to/destination/folder'` with the path of the folder where we want to copy the files. Also, specify the desired file extension (e.g., `'.pdf'`, `'.jpg'`) in the `file_extension` variable.\n",
    "\n",
    "The `copy_files_with_extension()` function utilizes the `os.walk()` function to traverse the folder tree, and for each file, it checks if the file extension matches the specified one. If it does, the file is copied to the destination folder using `shutil.copy2()`. Finally, the function prints a message indicating the successful copying of the file.\n",
    "\n",
    "Please note that this program uses the `shutil.copy2()` function, which preserves the original file's metadata (such as timestamps). If we prefer not to preserve the metadata, we can use `shutil.copy()` instead."
   ]
  }
 ],
 "metadata": {
  "kernelspec": {
   "display_name": "Python 3 (ipykernel)",
   "language": "python",
   "name": "python3"
  },
  "language_info": {
   "codemirror_mode": {
    "name": "ipython",
    "version": 3
   },
   "file_extension": ".py",
   "mimetype": "text/x-python",
   "name": "python",
   "nbconvert_exporter": "python",
   "pygments_lexer": "ipython3",
   "version": "3.9.12"
  }
 },
 "nbformat": 4,
 "nbformat_minor": 5
}

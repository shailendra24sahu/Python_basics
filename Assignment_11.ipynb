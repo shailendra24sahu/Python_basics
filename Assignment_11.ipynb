{
 "cells": [
  {
   "cell_type": "markdown",
   "id": "fa0613fa",
   "metadata": {},
   "source": [
    "Q1. Create an assert statement that throws an AssertionError if the variable spam is a negative\n",
    "integer."
   ]
  },
  {
   "cell_type": "markdown",
   "id": "53cb47b0",
   "metadata": {},
   "source": [
    "Here's an example of an assert statement in Python that throws an `AssertionError` if the variable `spam` is a negative integer:"
   ]
  },
  {
   "cell_type": "code",
   "execution_count": 3,
   "id": "73159ae5",
   "metadata": {},
   "outputs": [],
   "source": [
    "def fun(spam):\n",
    "    assert spam >= 0, \"spam must be a non-negative integer\"\n",
    "    pass"
   ]
  },
  {
   "cell_type": "code",
   "execution_count": 4,
   "id": "7422069f",
   "metadata": {},
   "outputs": [
    {
     "ename": "AssertionError",
     "evalue": "spam must be a non-negative integer",
     "output_type": "error",
     "traceback": [
      "\u001b[1;31m---------------------------------------------------------------------------\u001b[0m",
      "\u001b[1;31mAssertionError\u001b[0m                            Traceback (most recent call last)",
      "Input \u001b[1;32mIn [4]\u001b[0m, in \u001b[0;36m<cell line: 1>\u001b[1;34m()\u001b[0m\n\u001b[1;32m----> 1\u001b[0m \u001b[43mfun\u001b[49m\u001b[43m(\u001b[49m\u001b[38;5;241;43m-\u001b[39;49m\u001b[38;5;241;43m1\u001b[39;49m\u001b[43m)\u001b[49m\n",
      "Input \u001b[1;32mIn [3]\u001b[0m, in \u001b[0;36mfun\u001b[1;34m(spam)\u001b[0m\n\u001b[0;32m      1\u001b[0m \u001b[38;5;28;01mdef\u001b[39;00m \u001b[38;5;21mfun\u001b[39m(spam):\n\u001b[1;32m----> 2\u001b[0m     \u001b[38;5;28;01massert\u001b[39;00m spam \u001b[38;5;241m>\u001b[39m\u001b[38;5;241m=\u001b[39m \u001b[38;5;241m0\u001b[39m, \u001b[38;5;124m\"\u001b[39m\u001b[38;5;124mspam must be a non-negative integer\u001b[39m\u001b[38;5;124m\"\u001b[39m\n\u001b[0;32m      3\u001b[0m     \u001b[38;5;28;01mpass\u001b[39;00m\n",
      "\u001b[1;31mAssertionError\u001b[0m: spam must be a non-negative integer"
     ]
    }
   ],
   "source": [
    "fun(-1)"
   ]
  },
  {
   "cell_type": "markdown",
   "id": "02d7d5c7",
   "metadata": {},
   "source": [
    "In this statement, we check if the variable `spam` is greater than or equal to zero (`spam >= 0`). If the condition evaluates to `False`, the assert statement raises an `AssertionError` with the specified error message: \"spam must be a non-negative integer.\""
   ]
  },
  {
   "cell_type": "code",
   "execution_count": null,
   "id": "31be417e",
   "metadata": {},
   "outputs": [],
   "source": []
  },
  {
   "cell_type": "markdown",
   "id": "b9a5731a",
   "metadata": {},
   "source": [
    "Q2. Write an assert statement that triggers an AssertionError if the variables eggs and bacon contain\n",
    "strings that are the same as each other, even if their cases are different (that is, &#39;hello&#39; and &#39;hello&#39; are\n",
    "considered the same, and &#39;goodbye&#39; and &#39;GOODbye&#39; are also considered the same)."
   ]
  },
  {
   "cell_type": "markdown",
   "id": "ea37ea51",
   "metadata": {},
   "source": [
    "\n",
    "To trigger an AssertionError if the variables eggs and bacon contain strings that are the same as each other, regardless of their case, we can use the lower() method to convert the strings to lowercase and then compare them using an assert statement. Here's an example:"
   ]
  },
  {
   "cell_type": "code",
   "execution_count": 8,
   "id": "2024fd28",
   "metadata": {},
   "outputs": [
    {
     "ename": "AssertionError",
     "evalue": "eggs and bacon cannot be the same",
     "output_type": "error",
     "traceback": [
      "\u001b[1;31m---------------------------------------------------------------------------\u001b[0m",
      "\u001b[1;31mAssertionError\u001b[0m                            Traceback (most recent call last)",
      "Input \u001b[1;32mIn [8]\u001b[0m, in \u001b[0;36m<cell line: 3>\u001b[1;34m()\u001b[0m\n\u001b[0;32m      1\u001b[0m eggs \u001b[38;5;241m=\u001b[39m \u001b[38;5;124m'\u001b[39m\u001b[38;5;124mhello\u001b[39m\u001b[38;5;124m'\u001b[39m\n\u001b[0;32m      2\u001b[0m bacon \u001b[38;5;241m=\u001b[39m \u001b[38;5;124m'\u001b[39m\u001b[38;5;124mHELLo\u001b[39m\u001b[38;5;124m'\u001b[39m\n\u001b[1;32m----> 3\u001b[0m \u001b[38;5;28;01massert\u001b[39;00m eggs\u001b[38;5;241m.\u001b[39mlower() \u001b[38;5;241m!=\u001b[39m bacon\u001b[38;5;241m.\u001b[39mlower(), \u001b[38;5;124m\"\u001b[39m\u001b[38;5;124meggs and bacon cannot be the same\u001b[39m\u001b[38;5;124m\"\u001b[39m\n",
      "\u001b[1;31mAssertionError\u001b[0m: eggs and bacon cannot be the same"
     ]
    }
   ],
   "source": [
    "eggs = 'hello'\n",
    "bacon = 'HELLo'\n",
    "assert eggs.lower() != bacon.lower(), \"eggs and bacon cannot be the same\""
   ]
  },
  {
   "cell_type": "code",
   "execution_count": null,
   "id": "81ba8be1",
   "metadata": {},
   "outputs": [],
   "source": []
  },
  {
   "cell_type": "markdown",
   "id": "1350129f",
   "metadata": {},
   "source": [
    "Q3. Create an assert statement that throws an AssertionError every time."
   ]
  },
  {
   "cell_type": "markdown",
   "id": "d9f8a34c",
   "metadata": {},
   "source": [
    "To create an assert statement that throws an AssertionError every time, we can simply use assert False in Python. Here's an example:"
   ]
  },
  {
   "cell_type": "code",
   "execution_count": 9,
   "id": "aca31d9b",
   "metadata": {},
   "outputs": [
    {
     "ename": "AssertionError",
     "evalue": "This assert statement always throws an AssertionError",
     "output_type": "error",
     "traceback": [
      "\u001b[1;31m---------------------------------------------------------------------------\u001b[0m",
      "\u001b[1;31mAssertionError\u001b[0m                            Traceback (most recent call last)",
      "Input \u001b[1;32mIn [9]\u001b[0m, in \u001b[0;36m<cell line: 1>\u001b[1;34m()\u001b[0m\n\u001b[1;32m----> 1\u001b[0m \u001b[38;5;28;01massert\u001b[39;00m \u001b[38;5;28;01mFalse\u001b[39;00m, \u001b[38;5;124m\"\u001b[39m\u001b[38;5;124mThis assert statement always throws an AssertionError\u001b[39m\u001b[38;5;124m\"\u001b[39m\n",
      "\u001b[1;31mAssertionError\u001b[0m: This assert statement always throws an AssertionError"
     ]
    }
   ],
   "source": [
    "assert False, \"This assert statement always throws an AssertionError\""
   ]
  },
  {
   "cell_type": "markdown",
   "id": "e51d473d",
   "metadata": {},
   "source": [
    "In this assert statement, False is used as the condition, which always evaluates to False. As a result, the assert statement raises an AssertionError with the specified error message: \"This assert statement always throws an AssertionError\"."
   ]
  },
  {
   "cell_type": "code",
   "execution_count": null,
   "id": "b4a5661f",
   "metadata": {},
   "outputs": [],
   "source": []
  },
  {
   "cell_type": "markdown",
   "id": "74f86e59",
   "metadata": {},
   "source": [
    "Q4. What are the two lines that must be present in your software in order to call logging.debug()?"
   ]
  },
  {
   "cell_type": "markdown",
   "id": "9e370eba",
   "metadata": {},
   "source": [
    "In order to call logging.debug() in our software, we typically need to include two lines: \n",
    "- one for importing the logging module and \n",
    "- another for configuring the logging settings. Here's an example:"
   ]
  },
  {
   "cell_type": "code",
   "execution_count": 10,
   "id": "f227fd31",
   "metadata": {},
   "outputs": [
    {
     "name": "stderr",
     "output_type": "stream",
     "text": [
      "DEBUG:root:This is a debug message\n"
     ]
    }
   ],
   "source": [
    "import logging\n",
    "\n",
    "logging.basicConfig(level=logging.DEBUG)\n",
    "\n",
    "# Rest of the code\n",
    "\n",
    "logging.debug(\"This is a debug message\")"
   ]
  },
  {
   "cell_type": "markdown",
   "id": "1d1a3dc0",
   "metadata": {},
   "source": [
    "The first line import logging imports the logging module, which provides the necessary functions and classes for logging.\n",
    "\n",
    "The second line logging.basicConfig(level=logging.DEBUG) configures the logging settings. In this example, it sets the logging level to DEBUG, which means that all debug messages and messages of higher levels (e.g., INFO, WARNING, ERROR, etc.) will be displayed. we can modify the level parameter according to our specific needs.\n",
    "\n",
    "After configuring the logging settings, we can call logging.debug(\"message\") to log debug messages throughout our code.\n",
    "\n",
    "Remember that the basicConfig method is typically called once at the beginning of our script or module to configure the logging system. If we need more advanced logging configurations or multiple loggers, we may need to use additional logging methods and classes from the logging module."
   ]
  },
  {
   "cell_type": "code",
   "execution_count": null,
   "id": "5d3c79c2",
   "metadata": {},
   "outputs": [],
   "source": []
  },
  {
   "cell_type": "markdown",
   "id": "419a9822",
   "metadata": {},
   "source": [
    "Q5. What are the two lines that your program must have in order to have logging.debug() send a\n",
    "logging message to a file named programLog.txt?"
   ]
  },
  {
   "cell_type": "markdown",
   "id": "5433424a",
   "metadata": {},
   "source": [
    "To have logging.debug() send a logging message to a file named \"programLog.txt,\" we need to include two lines: one for importing the logging module and another for configuring the logging settings to write to the specified file. Here's an example:"
   ]
  },
  {
   "cell_type": "code",
   "execution_count": 12,
   "id": "30b0470e",
   "metadata": {},
   "outputs": [
    {
     "name": "stderr",
     "output_type": "stream",
     "text": [
      "DEBUG:root:This is a debug message\n"
     ]
    }
   ],
   "source": [
    "import logging\n",
    "\n",
    "logging.basicConfig(filename='programLog.txt', level=logging.DEBUG)\n",
    "\n",
    "# Rest of the code\n",
    "\n",
    "logging.debug(\"This is a debug message\")"
   ]
  },
  {
   "cell_type": "markdown",
   "id": "294af95f",
   "metadata": {},
   "source": [
    "In this example, the first line import logging imports the logging module.\n",
    "\n",
    "The second line logging.basicConfig(filename='programLog.txt', level=logging.DEBUG) configures the logging settings. The filename parameter specifies the name of the file to which the log messages will be written. In this case, it is set to \"programLog.txt\". The level parameter sets the logging level to DEBUG, ensuring that all debug messages and messages of higher levels are written to the file.\n",
    "\n",
    "After configuring the logging settings, we can call logging.debug(\"message\") to log debug messages, and they will be written to the \"programLog.txt\" file.\n",
    "\n",
    "Make sure that the file is accessible and that we have write permissions in the directory where our program is executing in order to successfully write the log messages to the file."
   ]
  },
  {
   "cell_type": "code",
   "execution_count": null,
   "id": "81c1d19a",
   "metadata": {},
   "outputs": [],
   "source": []
  },
  {
   "cell_type": "markdown",
   "id": "16ded69c",
   "metadata": {},
   "source": [
    "Q6. What are the five levels of logging?"
   ]
  },
  {
   "cell_type": "markdown",
   "id": "6b014bd3",
   "metadata": {},
   "source": [
    "In Python's logging module, there are five levels of logging available, listed in increasing order of severity:\n",
    "\n",
    "1. DEBUG: This is the lowest level of logging used for detailed information during development and debugging. It is typically used for diagnostic information that can help in identifying issues.\n",
    "\n",
    "2. INFO: This level is used to confirm that things are working as expected. It provides informational messages about the progress or state of the program.\n",
    "\n",
    "3. WARNING: This level indicates potential issues or situations that could lead to problems in the future. It highlights conditions that are not necessarily errors but might require attention.\n",
    "\n",
    "4. ERROR: This level indicates errors that are more severe and typically prevent the program from functioning properly. When an error is encountered, it usually indicates a failure in a specific operation or functionality.\n",
    "\n",
    "5. CRITICAL: This is the highest level of logging, representing critical errors or failures that may result in the termination of the program or application. Critical messages usually require immediate attention.\n",
    "\n",
    "By specifying a logging level during configuration (e.g., using `logging.basicConfig(level=logging.DEBUG)`), we can control which log messages are displayed or recorded based on their severity. The logging module allows us to filter and handle log messages based on their levels, enabling us to control the verbosity and granularity of our logs based on our application's needs."
   ]
  },
  {
   "cell_type": "code",
   "execution_count": null,
   "id": "b9afabd1",
   "metadata": {},
   "outputs": [],
   "source": []
  },
  {
   "cell_type": "markdown",
   "id": "09bccf30",
   "metadata": {},
   "source": [
    "Q7. What line of code would you add to your software to disable all logging messages?"
   ]
  },
  {
   "cell_type": "markdown",
   "id": "a09ec653",
   "metadata": {},
   "source": [
    "To disable all logging messages in our software, we can add the following line of code:\n",
    "\n",
    "```python\n",
    "logging.disable(logging.CRITICAL)\n",
    "```\n",
    "\n",
    "This line of code uses the `disable` method from the logging module to disable all log messages with a severity level of `CRITICAL` and above. Since `CRITICAL` is the highest logging level, disabling it effectively disables all logging messages.\n",
    "\n",
    "Make sure to import the logging module (`import logging`) before adding this line to our code. Additionally, it's important to note that once we disable logging, we won't receive any log messages, including error messages or critical notifications, which may be important for troubleshooting and debugging purposes. Therefore, it's generally recommended to disable logging only in specific scenarios where logging is not necessary or during certain production deployments."
   ]
  },
  {
   "cell_type": "code",
   "execution_count": null,
   "id": "35848f45",
   "metadata": {},
   "outputs": [],
   "source": []
  },
  {
   "cell_type": "markdown",
   "id": "a6554d24",
   "metadata": {},
   "source": [
    "Q8.Why is using logging messages better than using print() to display the same message?"
   ]
  },
  {
   "cell_type": "markdown",
   "id": "65e644a8",
   "metadata": {},
   "source": [
    "Using logging messages is generally better than using `print()` statements for displaying messages in a software application due to the following reasons:\n",
    "\n",
    "1. Configurability: The logging module provides extensive configuration options, allowing us to control the format, destination, and severity of log messages. we can easily change the logging behavior without modifying the code. On the other hand, with `print()` statements, we would need to manually modify or remove them from the code.\n",
    "\n",
    "2. Granularity and Levels: The logging module offers different levels of logging (e.g., DEBUG, INFO, WARNING, ERROR, CRITICAL), allowing us to differentiate between different types of messages. This allows for finer control over the level of detail and verbosity of the logged information. With `print()` statements, we would need to implement custom logic to achieve similar functionality.\n",
    "\n",
    "3. Filtering and Suppression: With logging, we can filter or suppress log messages based on their severity or other criteria. This enables us to focus on specific types of messages during debugging or production deployments, reducing noise and improving readability. `print()` statements lack this built-in capability.\n",
    "\n",
    "4. Integration with Libraries and Frameworks: Many libraries and frameworks are designed to work with the logging module, allowing us to seamlessly integrate logging into our application. This enables better compatibility, interoperability, and consistency across different components of our software ecosystem.\n",
    "\n",
    "5. Performance: Logging can be more performant compared to using `print()` statements, especially when used with log levels. When the logging level is set to a higher level (e.g., WARNING or higher), log messages with lower severity levels are not processed or displayed. This can improve the overall performance of the application, especially when extensive logging is used.\n",
    "\n",
    "6. Flexibility for Handlers and Formatters: The logging module provides various handlers and formatters that allow us to customize how log messages are outputted and formatted. we can direct log messages to files, streams, databases, or even send them remotely. we can also define custom formatting options, timestamps, or additional metadata to provide more context to the log messages. With `print()`, we have limited control over these aspects.\n",
    "\n",
    "Overall, the logging module provides a more structured and flexible approach to logging, making it easier to manage and maintain logging statements in a software application. It offers better control, configurability, and integration compared to using simple `print()` statements."
   ]
  },
  {
   "cell_type": "code",
   "execution_count": null,
   "id": "a134c46b",
   "metadata": {},
   "outputs": [],
   "source": []
  },
  {
   "cell_type": "markdown",
   "id": "abf6411a",
   "metadata": {},
   "source": [
    "Q9. What are the differences between the Step Over, Step In, and Step Out buttons in the debugger?"
   ]
  },
  {
   "cell_type": "markdown",
   "id": "2e0ef509",
   "metadata": {},
   "source": [
    "The Step Over, Step In, and Step Out buttons are commonly found in debuggers and are used for program execution control during debugging. Here are the differences between these buttons:\n",
    "\n",
    "1. Step Over: The Step Over button allows us to execute the current line of code and then move to the next line. If the current line contains a function call, the debugger will execute the entire function without stepping into it. This means that the debugger will not dive into the details of the function but will treat it as a single unit, providing a higher-level view of the program's execution.\n",
    "\n",
    "2. Step In: The Step In button allows us to execute the current line of code and move to the next line, just like Step Over. However, if the current line contains a function call, the debugger will enter into the called function and pause at the first line of that function. This allows us to debug the function's internal code and step through it line by line.\n",
    "\n",
    "3. Step Out: The Step Out button is used when we want to quickly execute the remaining lines of the current function and return to the caller. If we're currently inside a function and we press Step Out, the debugger will run the remaining lines of that function without stepping through each line individually. It will then return to the calling line in the code where the function was originally called.\n",
    "\n",
    "In summary:\n",
    "- Step Over executes the current line and moves to the next line, treating functions as a single unit.\n",
    "- Step In executes the current line and moves to the next line, but enters into any called functions, allowing step-by-step debugging within functions.\n",
    "- Step Out executes the remaining lines of the current function and returns to the calling line in the code.\n",
    "\n",
    "These buttons are commonly used to control program flow during debugging, allowing us to examine and understand how our code executes and identify potential issues or bugs."
   ]
  },
  {
   "cell_type": "code",
   "execution_count": null,
   "id": "7a22f17e",
   "metadata": {},
   "outputs": [],
   "source": []
  },
  {
   "cell_type": "markdown",
   "id": "4a34eb3b",
   "metadata": {},
   "source": [
    "Q10.After you click Continue, when will the debugger stop ?"
   ]
  },
  {
   "cell_type": "markdown",
   "id": "0e8df013",
   "metadata": {},
   "source": [
    "When we click the Continue button in a debugger, it instructs the debugger to continue the execution of the program without interruption until it reaches a specific stopping condition. The debugger will stop based on one of the following conditions:\n",
    "\n",
    "1. Breakpoint: If there is an active breakpoint set at a specific line of code, the debugger will pause when it reaches that line. Breakpoints allow us to pause the program's execution at specific points to inspect variables, evaluate expressions, and analyze the program's state.\n",
    "\n",
    "2. Exception: If an exception is raised during the execution of the program and it is not handled, the debugger will stop at the point where the exception occurred. This allows us to examine the exception details, traceback, and understand the cause of the error.\n",
    "\n",
    "3. Program completion: The debugger will also stop when the program execution completes. If the program reaches its end without encountering any breakpoints or unhandled exceptions, the debugger will halt, and the debugging session will end.\n",
    "\n",
    "Additionally, some debuggers provide options for conditional breakpoints or breakpoints triggered by specific events or conditions. In such cases, the debugger will stop when the specified condition or event is met.\n",
    "\n",
    "It's important to note that the behavior of the debugger may vary depending on the specific debugger and the settings configured. Understanding the debugger's behavior and the conditions that trigger breakpoints or pausing is essential for effective debugging."
   ]
  },
  {
   "cell_type": "code",
   "execution_count": null,
   "id": "28c9b0d4",
   "metadata": {},
   "outputs": [],
   "source": []
  },
  {
   "cell_type": "markdown",
   "id": "4714a961",
   "metadata": {},
   "source": [
    "Q11. What is the concept of a breakpoint?"
   ]
  },
  {
   "cell_type": "markdown",
   "id": "cfe9a751",
   "metadata": {},
   "source": [
    "The concept of a breakpoint is a fundamental feature in debugging that allows us to pause the execution of a program at a specific line or condition. It provides a way to temporarily halt the program's execution at designated points, giving us an opportunity to inspect the program's state, variables, and identify issues or bugs.\n",
    "\n",
    "Breakpoints are set by developers at specific lines of code or based on certain conditions. When the program reaches a breakpoint during execution, it pauses, allowing us to examine the program's state at that particular point. This includes inspecting variable values, evaluating expressions, and stepping through the code line by line to understand its behavior.\n",
    "\n",
    "Here are some key aspects of breakpoints:\n",
    "\n",
    "1. Setting breakpoints: Breakpoints can be set using a debugger or an integrated development environment (IDE). Developers typically set breakpoints at lines of code where they suspect a problem or want to investigate the program's behavior.\n",
    "\n",
    "2. Pausing execution: When the program reaches a breakpoint, it suspends its execution, allowing us to interact with the debugger and explore the program's state.\n",
    "\n",
    "3. Inspecting variables: Breakpoints enable us to inspect the values of variables at the specific line where the breakpoint is set. This helps in understanding how the variables are changing and helps identify any unexpected or incorrect values.\n",
    "\n",
    "4. Stepping through code: Once paused at a breakpoint, we can step through the code line by line using step commands like Step Over, Step In, or Step Out. This helps in understanding the flow of the program and identifying any issues within the code.\n",
    "\n",
    "5. Conditional breakpoints: Some debuggers allow the setting of conditional breakpoints, where the program will only pause if a specific condition is met. This is useful for stopping the program's execution only when a particular scenario or condition is encountered.\n",
    "\n",
    "Breakpoints are an essential tool for debugging, as they allow developers to observe and analyze the program's execution at specific points of interest. By leveraging breakpoints effectively, developers can identify and fix issues efficiently, improving the overall quality and reliability of their software."
   ]
  }
 ],
 "metadata": {
  "kernelspec": {
   "display_name": "Python 3 (ipykernel)",
   "language": "python",
   "name": "python3"
  },
  "language_info": {
   "codemirror_mode": {
    "name": "ipython",
    "version": 3
   },
   "file_extension": ".py",
   "mimetype": "text/x-python",
   "name": "python",
   "nbconvert_exporter": "python",
   "pygments_lexer": "ipython3",
   "version": "3.9.12"
  }
 },
 "nbformat": 4,
 "nbformat_minor": 5
}

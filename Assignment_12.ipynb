{
 "cells": [
  {
   "cell_type": "markdown",
   "id": "88095288",
   "metadata": {},
   "source": [
    "Q1. In what modes should the PdfFileReader() and PdfFileWriter() File objects will be opened?"
   ]
  },
  {
   "cell_type": "markdown",
   "id": "e6cc3a03",
   "metadata": {},
   "source": [
    "In Python, the PdfFileReader() and PdfFileWriter() classes are part of the PyPDF2 library, which allows us to read and write PDF files. When working with these classes, we don't explicitly open file objects using modes like we would with regular file handling in Python (open() function).\n",
    "\n",
    "Instead, we create instances of PdfFileReader() and PdfFileWriter() directly, passing the PDF file path as an argument. The library handles the file opening and closing internally.\n",
    "\n",
    "Here's an example of how to use PdfFileReader() and PdfFileWriter():"
   ]
  },
  {
   "cell_type": "code",
   "execution_count": null,
   "id": "5f691e35",
   "metadata": {},
   "outputs": [],
   "source": [
    "from PyPDF2 import PdfFileReader, PdfFileWriter\n",
    "\n",
    "# Creating a PdfFileReader object to read an existing PDF\n",
    "reader = PdfFileReader('path/to/input.pdf')\n",
    "\n",
    "# Creating a PdfFileWriter object to write a new PDF\n",
    "writer = PdfFileWriter()"
   ]
  },
  {
   "cell_type": "markdown",
   "id": "8b458b3f",
   "metadata": {},
   "source": [
    "As we can see, there's no need to specify modes when working with these objects. The library takes care of opening the PDF file for reading or creating a new PDF file for writing, depending on the purpose of the object.\n",
    "\n",
    "Once we have the PdfFileReader object for reading or PdfFileWriter object for writing, we can perform various operations like extracting pages, merging PDFs, adding bookmarks, etc., based on our requirements."
   ]
  },
  {
   "cell_type": "code",
   "execution_count": null,
   "id": "7b1ff317",
   "metadata": {},
   "outputs": [],
   "source": []
  },
  {
   "cell_type": "markdown",
   "id": "ff517dff",
   "metadata": {},
   "source": [
    "Q2. From a PdfFileReader object, how do you get a Page object for page 5?"
   ]
  },
  {
   "cell_type": "markdown",
   "id": "2eb4c357",
   "metadata": {},
   "source": [
    "To get a Page object for a specific page from a PdfFileReader object in the PyPDF2 library, we can use the getPage() method and pass the page number as an argument. The page numbers start from 0 for the first page.\n",
    "\n",
    "Here's an example that demonstrates how to get a Page object for page 5:"
   ]
  },
  {
   "cell_type": "code",
   "execution_count": null,
   "id": "f746e5d3",
   "metadata": {},
   "outputs": [],
   "source": [
    "from PyPDF2 import PdfFileReader\n",
    "\n",
    "# Creating a PdfFileReader object\n",
    "reader = PdfFileReader('path/to/input.pdf')\n",
    "\n",
    "# Get a Page object for page 5 (index 4)\n",
    "page_number = 4  # Zero-based index\n",
    "page = reader.getPage(page_number)"
   ]
  },
  {
   "cell_type": "markdown",
   "id": "f43cf85e",
   "metadata": {},
   "source": [
    "In this example, we assume that we have already created a PdfFileReader object named reader by specifying the path to the input PDF file.\n",
    "\n",
    "By calling getPage(4) on the reader object, we retrieve the Page object for page 5 (index 4). Now we can perform various operations on the page object, such as extracting text, manipulating the page content, or saving it to a new PDF file."
   ]
  },
  {
   "cell_type": "code",
   "execution_count": null,
   "id": "780b959b",
   "metadata": {},
   "outputs": [],
   "source": []
  },
  {
   "cell_type": "markdown",
   "id": "9a916c6f",
   "metadata": {},
   "source": [
    "Q3. What PdfFileReader variable stores the number of pages in the PDF document?"
   ]
  },
  {
   "cell_type": "markdown",
   "id": "64593233",
   "metadata": {},
   "source": [
    "In the `PyPDF2` library, the `PdfFileReader` class provides a variable called `numPages` that stores the number of pages in the PDF document. we can access this variable to obtain the total page count.\n",
    "\n",
    "Here's an example:\n",
    "\n",
    "```python\n",
    "from PyPDF2 import PdfFileReader\n",
    "\n",
    "# Creating a PdfFileReader object\n",
    "reader = PdfFileReader('path/to/input.pdf')\n",
    "\n",
    "# Get the number of pages in the PDF document\n",
    "num_pages = reader.numPages\n",
    "\n",
    "print(\"Total number of pages:\", num_pages)\n",
    "```\n",
    "\n",
    "In this example, after creating a `PdfFileReader` object named `reader` by specifying the path to the input PDF file, we can access the `numPages` variable to retrieve the total number of pages in the PDF document.\n",
    "\n",
    "By printing the value of `num_pages`, we will see the total number of pages in the PDF."
   ]
  },
  {
   "cell_type": "code",
   "execution_count": null,
   "id": "265ae9ec",
   "metadata": {},
   "outputs": [],
   "source": []
  },
  {
   "cell_type": "markdown",
   "id": "caf0b46a",
   "metadata": {},
   "source": [
    "Q4. If a PdfFileReader object’s PDF is encrypted with the password swordfish, what must you do\n",
    "before you can obtain Page objects from it?"
   ]
  },
  {
   "cell_type": "markdown",
   "id": "ff675246",
   "metadata": {},
   "source": [
    "If a `PdfFileReader` object's PDF is encrypted with a password, we need to decrypt it using the correct password before we can obtain `Page` objects from it. \n",
    "\n",
    "To decrypt an encrypted PDF, we can use the `decrypt()` method of the `PdfFileReader` object and pass the password as an argument. Once the decryption is successful, we can access the `Page` objects as usual.\n",
    "\n",
    "Here's an example:\n",
    "\n",
    "```python\n",
    "from PyPDF2 import PdfFileReader\n",
    "\n",
    "# Creating a PdfFileReader object\n",
    "reader = PdfFileReader('path/to/encrypted.pdf')\n",
    "\n",
    "# Decrypt the PDF with the password 'swordfish'\n",
    "password = 'swordfish'\n",
    "reader.decrypt(password)\n",
    "\n",
    "# Get the number of pages in the decrypted PDF document\n",
    "num_pages = reader.numPages\n",
    "\n",
    "# Get a Page object for page 1\n",
    "page_number = 0\n",
    "page = reader.getPage(page_number)\n",
    "\n",
    "# Perform operations on the Page object or access its content\n",
    "# For example:\n",
    "text = page.extractText()\n",
    "print(\"Text on page 1:\", text)\n",
    "```\n",
    "\n",
    "In this example, we assume that we have a `PdfFileReader` object named `reader` for an encrypted PDF file specified by the path 'path/to/encrypted.pdf'.\n",
    "\n",
    "By calling `decrypt('swordfish')` on the `reader` object and providing the correct password ('swordfish' in this case), we decrypt the PDF document.\n",
    "\n",
    "After decryption, we can perform operations such as obtaining the number of pages (`numPages`) and retrieving specific `Page` objects using `getPage()`. we can then perform further operations on the `Page` objects, such as extracting text, manipulating content, or saving them to a new PDF file."
   ]
  },
  {
   "cell_type": "code",
   "execution_count": null,
   "id": "a29d7192",
   "metadata": {},
   "outputs": [],
   "source": []
  },
  {
   "cell_type": "markdown",
   "id": "cab4f499",
   "metadata": {},
   "source": [
    "Q5. What methods do you use to rotate a page?"
   ]
  },
  {
   "cell_type": "markdown",
   "id": "d7fa7e1c",
   "metadata": {},
   "source": [
    "To rotate a page in the `PyPDF2` library, we can use the `rotateClockwise()` or `rotateCounterClockwise()` methods available on a `Page` object. These methods allow us to rotate the page clockwise or counterclockwise by specifying the rotation angle in degrees.\n",
    "\n",
    "Here's an example that demonstrates how to rotate a page:\n",
    "\n",
    "```python\n",
    "from PyPDF2 import PdfFileReader, PdfFileWriter\n",
    "\n",
    "# Creating a PdfFileReader object\n",
    "reader = PdfFileReader('path/to/input.pdf')\n",
    "\n",
    "# Get a Page object for the page we want to rotate (e.g., page 1)\n",
    "page_number = 0  # Zero-based index\n",
    "page = reader.getPage(page_number)\n",
    "\n",
    "# Rotate the page clockwise by 90 degrees\n",
    "page.rotateClockwise(90)\n",
    "\n",
    "# Creating a PdfFileWriter object\n",
    "writer = PdfFileWriter()\n",
    "\n",
    "# Add the rotated page to the writer object\n",
    "writer.addPage(page)\n",
    "\n",
    "# Save the modified PDF to a new file\n",
    "output_path = 'path/to/output.pdf'\n",
    "with open(output_path, 'wb') as output_file:\n",
    "    writer.write(output_file)\n",
    "\n",
    "print(\"Page rotated and saved to\", output_path)\n",
    "```\n",
    "\n",
    "In this example, we assume that we have a PDF file named 'input.pdf' located at 'path/to/input.pdf'. \n",
    "\n",
    "First, a `PdfFileReader` object named `reader` is created to read the input PDF file. Then, we get a `Page` object for the page we want to rotate using `getPage()`, specifying the page number (zero-based index).\n",
    "\n",
    "After obtaining the `Page` object, we can call the `rotateClockwise()` or `rotateCounterClockwise()` method on the `page` object, passing the desired rotation angle in degrees. In the example, we rotate the page clockwise by 90 degrees using `rotateClockwise(90)`.\n",
    "\n",
    "Next, a `PdfFileWriter` object named `writer` is created to write the modified PDF. The rotated page is added to the `writer` object using `addPage()`.\n",
    "\n",
    "Finally, the modified PDF is saved to a new file specified by `output_path` using the `write()` method of the `writer` object.\n",
    "\n",
    "After running the code, the specified page will be rotated, and the modified PDF will be saved to the specified output path."
   ]
  },
  {
   "cell_type": "code",
   "execution_count": null,
   "id": "9d7de170",
   "metadata": {},
   "outputs": [],
   "source": []
  },
  {
   "cell_type": "markdown",
   "id": "8f1a4f6c",
   "metadata": {},
   "source": [
    "Q6. What is the difference between a Run object and a Paragraph object?"
   ]
  },
  {
   "cell_type": "markdown",
   "id": "68a2d51f",
   "metadata": {},
   "source": [
    "In the context of text processing, a \"Run\" object and a \"Paragraph\" object are typically associated with rich text formatting. The exact definitions and functionalities of these objects may vary depending on the specific text processing library or framework being used. However, I can provide a general understanding of these concepts.\n",
    "\n",
    "1. Run Object:\n",
    "A \"Run\" object represents a contiguous range of text within a paragraph that shares the same formatting properties. It typically refers to a span of text with consistent styling, such as font family, font size, color, boldness, italics, etc. Runs are useful when we want to apply different formatting attributes to different parts of a paragraph.\n",
    "\n",
    "For example, consider the following sentence:\n",
    "\"This is a <b>bold</b> and <i>italic</i> text.\"\n",
    "\n",
    "In this case, the sentence can be represented as a single paragraph containing three runs: \"This is a \", \"bold\", and \" and italic text.\" Each run may have its own formatting properties (e.g., the second run is bold and the third run is italic).\n",
    "\n",
    "2. Paragraph Object:\n",
    "A \"Paragraph\" object represents a block of text that is typically separated from adjacent paragraphs by a line break or some other form of visual distinction. It can contain multiple runs or other text elements. A paragraph may have its own formatting properties, such as alignment, indentation, line spacing, and more.\n",
    "\n",
    "In many text processing libraries, a paragraph is treated as a higher-level container that holds the runs or other text elements within it.\n",
    "\n",
    "For example, consider the following paragraph:\n",
    "\"This is the first sentence. This is the second sentence.\"\n",
    "\n",
    "In this case, the paragraph contains two sentences, and each sentence can be represented as a run within the paragraph.\n",
    "\n",
    "In summary, a \"Run\" object represents a span of text with consistent formatting properties within a paragraph, while a \"Paragraph\" object represents a block of text that may contain one or more runs or other text elements. The specific details and functionalities of these objects can vary based on the text processing library or framework being used."
   ]
  },
  {
   "cell_type": "code",
   "execution_count": null,
   "id": "27ae4b49",
   "metadata": {},
   "outputs": [],
   "source": []
  },
  {
   "cell_type": "markdown",
   "id": "8215d8cc",
   "metadata": {},
   "source": [
    "Q7. How do you obtain a list of Paragraph objects for a Document object that’s stored in a variable\n",
    "named doc?"
   ]
  },
  {
   "cell_type": "markdown",
   "id": "15512f48",
   "metadata": {},
   "source": [
    "To obtain a list of Paragraph objects for a Document object stored in a variable named `doc`, the specific method or property to access the paragraphs will depend on the document processing framework or library we are using. However, I can provide us with a general approach that should work in many cases:\n",
    "\n",
    "1. Check the documentation: Consult the documentation or reference material for the document processing library or framework we are using. Look for information about accessing paragraphs within a document object.\n",
    "\n",
    "2. Identify the appropriate method or property: Look for a method or property that allows us to access the paragraphs of a document. Commonly used names for such methods or properties include `getParagraphs()`, `paragraphs()`, `getParagraphList()`, or similar variations.\n",
    "\n",
    "3. Invoke the method or access the property: Once we have identified the appropriate method or property, apply it to the `doc` variable to retrieve the list of paragraphs. The exact syntax will depend on the programming language and the specific library or framework being used. Here's an example using a hypothetical library:\n",
    "\n",
    "```python\n",
    "paragraphs = doc.getParagraphs()  # Using the hypothetical getParagraphs() method\n",
    "```\n",
    "\n",
    "After executing this code, the variable `paragraphs` should contain a list of Paragraph objects from the `doc` Document object.\n",
    "\n",
    "Remember to adapt the code based on the specific library or framework we are using by referring to its documentation or examples."
   ]
  },
  {
   "cell_type": "code",
   "execution_count": null,
   "id": "1db6adb3",
   "metadata": {},
   "outputs": [],
   "source": []
  },
  {
   "cell_type": "markdown",
   "id": "9f2119f8",
   "metadata": {},
   "source": [
    "Q8. What type of object has bold, underline, italic, strike, and outline variables?"
   ]
  },
  {
   "cell_type": "markdown",
   "id": "80b2e783",
   "metadata": {},
   "source": [
    "In Python, the \"bold,\" \"underline,\" \"italic,\" \"strike,\" and \"outline\" variables are typically associated with text formatting options used in rich text or word processing applications. These variables are not directly associated with a specific object type in Python. Instead, they are often used as attributes or properties of text-based objects, such as strings or text widgets in graphical user interfaces (GUIs).\n",
    "\n",
    "For example, in GUI frameworks like Tkinter or PyQt, we can apply these formatting options to text displayed in labels, buttons, or other UI elements. The specific implementation and availability of these formatting options may vary depending on the framework or library we are using.\n",
    "\n",
    "Here's a simple example using Tkinter in Python to demonstrate the usage of some of these formatting options:"
   ]
  },
  {
   "cell_type": "code",
   "execution_count": 3,
   "id": "34928170",
   "metadata": {},
   "outputs": [],
   "source": [
    "import tkinter as tk\n",
    "\n",
    "root = tk.Tk()\n",
    "\n",
    "label = tk.Label(root, text=\"Hello, world!\", font=(\"Arial\", 12, \"bold italic underline\"), padx=10, pady=10)\n",
    "label.pack()\n",
    "\n",
    "root.mainloop()"
   ]
  },
  {
   "cell_type": "markdown",
   "id": "ed7b747c",
   "metadata": {},
   "source": [
    "In this example, the label object is a Label widget from Tkinter. By specifying the font attribute as \"bold italic underline\", the text will be displayed with bold, italic, and underline formatting. This is just one way these formatting options can be used in a Python program. The exact implementation and usage may vary depending on our specific requirements and the libraries or frameworks we are utilizing."
   ]
  },
  {
   "cell_type": "code",
   "execution_count": null,
   "id": "ef36d4a0",
   "metadata": {},
   "outputs": [],
   "source": []
  },
  {
   "cell_type": "markdown",
   "id": "2f4934e4",
   "metadata": {},
   "source": [
    "Q9. What is the difference between False, True, and None for the bold variable?"
   ]
  },
  {
   "cell_type": "markdown",
   "id": "9d346b50",
   "metadata": {},
   "source": [
    "In Python, `False`, `True`, and `None` are special constant values with different meanings. However, they are not directly related to the \"bold\" variable or text formatting options. Let's clarify the meanings of these constants:\n",
    "\n",
    "1. `False`: It is a Boolean constant that represents the logical value \"false.\" It is used to indicate a condition or state that is not true. In terms of text formatting, the value `False` itself does not have any direct relation to the \"bold\" attribute or text styling.\n",
    "\n",
    "2. `True`: It is a Boolean constant that represents the logical value \"true.\" It is used to indicate a condition or state that is true. Similarly, in terms of text formatting, the value `True` does not have any direct relation to the \"bold\" attribute or text styling.\n",
    "\n",
    "3. `None`: It is a special constant in Python that represents the absence of a value or a null value. It is often used to indicate that a variable or an object does not have a valid value assigned to it. In the context of text formatting, `None` does not have any specific association with the \"bold\" variable or text styling attributes.\n",
    "\n",
    "To apply formatting options like bold to text, we would typically use the appropriate methods or attributes provided by a library or framework we are working with. The usage of `False`, `True`, or `None` is unrelated to the specific text formatting options we may encounter in a given programming context."
   ]
  },
  {
   "cell_type": "code",
   "execution_count": null,
   "id": "91604c5c",
   "metadata": {},
   "outputs": [],
   "source": []
  },
  {
   "cell_type": "markdown",
   "id": "be263e0b",
   "metadata": {},
   "source": [
    "Q10. How do you create a Document object for a new Word document?"
   ]
  },
  {
   "cell_type": "markdown",
   "id": "dde91cc4",
   "metadata": {},
   "source": [
    "To create a `Document` object for a new Word document, we can use the `python-docx` library. Here's an example of how we can create a new Word document using this library:\n",
    "\n",
    "First, make sure we have the `python-docx` library installed. we can install it using pip:\n",
    "\n",
    "```\n",
    "pip install python-docx\n",
    "```\n",
    "\n",
    "Once the library is installed, we can create a new Word document as follows:\n",
    "\n",
    "```python\n",
    "from docx import Document\n",
    "\n",
    "# Create a new Document object\n",
    "doc = Document()\n",
    "\n",
    "# Add content to the document\n",
    "doc.add_paragraph(\"Hello, world!\")\n",
    "\n",
    "# Save the document\n",
    "doc.save(\"new_document.docx\")\n",
    "```\n",
    "\n",
    "In this example, we import the `Document` class from the `docx` module. Then, we create a new `Document` object by calling `Document()`. This creates an empty Word document.\n",
    "\n",
    "Next, we can add content to the document using methods like `add_paragraph()` or `add_heading()`. In this case, we add a paragraph with the text \"Hello, world!\".\n",
    "\n",
    "Finally, we save the document by calling the `save()` method and providing a file name. The document will be saved in the current directory with the specified file name (\"new_document.docx\" in this example).\n",
    "\n",
    "we can further customize the document by adding more paragraphs, headings, tables, images, and formatting options using the available methods and properties provided by the `Document` object in the `python-docx` library."
   ]
  },
  {
   "cell_type": "code",
   "execution_count": null,
   "id": "1fea2041",
   "metadata": {},
   "outputs": [],
   "source": []
  },
  {
   "cell_type": "markdown",
   "id": "2a6a99ca",
   "metadata": {},
   "source": [
    "Q11. How do you add a paragraph with the text &#39;Hello, there!&#39; to a Document object stored in a\n",
    "variable named doc?"
   ]
  },
  {
   "cell_type": "markdown",
   "id": "0d621277",
   "metadata": {},
   "source": [
    "To add a paragraph with the text 'Hello, there!' to a `Document` object stored in a variable named `doc`, we can use the `add_paragraph()` method provided by the `python-docx` library. Here's an example:\n",
    "\n",
    "```python\n",
    "from docx import Document\n",
    "\n",
    "# Create a new Document object\n",
    "doc = Document()\n",
    "\n",
    "# Add a paragraph to the document\n",
    "doc.add_paragraph('Hello, there!')\n",
    "\n",
    "# Save the document\n",
    "doc.save('document.docx')\n",
    "```\n",
    "\n",
    "In this example, we assume that we have already imported the `Document` class from the `docx` module and created a `Document` object stored in the variable `doc`.\n",
    "\n",
    "The `add_paragraph()` method is used to add a new paragraph to the document. we can pass the desired text as a string to this method. In this case, we pass the string `'Hello, there!'` as the text content of the paragraph.\n",
    "\n",
    "After adding the paragraph, we can further customize the document, add more paragraphs, apply formatting options, or include additional elements using the available methods and properties of the `Document` object.\n",
    "\n",
    "Finally, we can save the document using the `save()` method and providing a file name (in this example, the file name is set as `'document.docx'`). The document will be saved with the specified file name in the current directory."
   ]
  },
  {
   "cell_type": "code",
   "execution_count": null,
   "id": "be2c49de",
   "metadata": {},
   "outputs": [],
   "source": []
  },
  {
   "cell_type": "markdown",
   "id": "971601ae",
   "metadata": {},
   "source": [
    "Q12. What integers represent the levels of headings available in Word documents?"
   ]
  },
  {
   "cell_type": "markdown",
   "id": "b5be06c5",
   "metadata": {},
   "source": [
    "In Word documents, the levels of headings are typically represented using integer values. The specific integer values used to represent different heading levels can vary depending on the styling and formatting preferences of the document or the Word processing software being used. However, a common convention for representing heading levels in Word documents is as follows:\n",
    "\n",
    "- Heading 1: Level 1 is usually represented by the integer value 1.\n",
    "- Heading 2: Level 2 is usually represented by the integer value 2.\n",
    "- Heading 3: Level 3 is usually represented by the integer value 3.\n",
    "- Heading 4: Level 4 is usually represented by the integer value 4.\n",
    "- Heading 5: Level 5 is usually represented by the integer value 5.\n",
    "- Heading 6: Level 6 is usually represented by the integer value 6.\n",
    "- Heading 7: Level 7 is usually represented by the integer value 7.\n",
    "- Heading 8: Level 8 is usually represented by the integer value 8.\n",
    "- Heading 9: Level 9 is usually represented by the integer value 9.\n",
    "\n",
    "These integer values are commonly used when programmatically working with Word documents using libraries like `python-docx` or when specifying heading styles using XML or HTML formats.\n",
    "\n",
    "It's important to note that the exact mapping of integer values to heading levels may differ based on the specific Word template or document style being used. It's always recommended to refer to the documentation or specific requirements of the Word document we are working with to determine the correct integer values for the desired heading levels."
   ]
  }
 ],
 "metadata": {
  "kernelspec": {
   "display_name": "Python 3 (ipykernel)",
   "language": "python",
   "name": "python3"
  },
  "language_info": {
   "codemirror_mode": {
    "name": "ipython",
    "version": 3
   },
   "file_extension": ".py",
   "mimetype": "text/x-python",
   "name": "python",
   "nbconvert_exporter": "python",
   "pygments_lexer": "ipython3",
   "version": "3.9.12"
  }
 },
 "nbformat": 4,
 "nbformat_minor": 5
}

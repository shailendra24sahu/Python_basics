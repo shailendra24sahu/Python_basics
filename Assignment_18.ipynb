{
 "cells": [
  {
   "cell_type": "markdown",
   "id": "1eaf210b",
   "metadata": {},
   "source": [
    "Q1. Create a zoo.py file first. Define the hours() function, which prints the string &#39;Open 9-5 daily&#39;.\n",
    "Then, use the interactive interpreter to import the zoo module and call its hours() function."
   ]
  },
  {
   "cell_type": "markdown",
   "id": "f15e7d32",
   "metadata": {},
   "source": [
    "To create the `zoo.py` file with the `hours()` function, we can follow these steps:\n",
    "\n",
    "1. Open a text editor and create a new file.\n",
    "2. Save the file as `zoo.py` in a directory of our choice.\n",
    "3. Add the following code to the `zoo.py` file:\n",
    "\n",
    "```python\n",
    "def hours():\n",
    "    print('Open 9-5 daily')\n",
    "```\n",
    "\n",
    "Now that we have the `zoo.py` file ready, we can use the interactive interpreter to import the `zoo` module and call its `hours()` function. Here's how we can do it:\n",
    "\n",
    "1. Open a terminal or command prompt.\n",
    "2. Navigate to the directory where we saved the `zoo.py` file.\n",
    "3. Launch the Python interpreter by typing `python` or `python3` (depending on our setup) and pressing Enter.\n",
    "4. In the Python interpreter, import the `zoo` module by typing `import zoo` and pressing Enter.\n",
    "5. Call the `hours()` function by typing `zoo.hours()` and pressing Enter.\n",
    "\n",
    "Here's an example of what the complete process would look like:\n",
    "\n",
    "```python\n",
    "$ cd /path/to/directory\n",
    "$ python\n",
    "Python 3.9.2 (default, Feb 24 2021, 13:46:16)\n",
    "[GCC 10.2.0] on linux\n",
    "Type \"help\", \"copyright\", \"credits\" or \"license\" for more information.\n",
    ">>> import zoo\n",
    ">>> zoo.hours()\n",
    "Open 9-5 daily\n",
    ">>>\n",
    "```\n",
    "\n",
    "By following these steps, we will have successfully created the `zoo.py` file, imported the `zoo` module, and called its `hours()` function using the interactive interpreter."
   ]
  },
  {
   "cell_type": "code",
   "execution_count": null,
   "id": "7f23f800",
   "metadata": {},
   "outputs": [],
   "source": []
  },
  {
   "cell_type": "markdown",
   "id": "406a29cd",
   "metadata": {},
   "source": [
    "Q2. In the interactive interpreter, import the zoo module as menagerie and call its hours() function."
   ]
  },
  {
   "cell_type": "markdown",
   "id": "717de56e",
   "metadata": {},
   "source": [
    "To import the `zoo` module as `menagerie` in the interactive interpreter and call its `hours()` function, we can follow these steps:\n",
    "\n",
    "1. Open a terminal or command prompt.\n",
    "2. Launch the Python interpreter by typing `python` or `python3` (depending on our setup) and pressing Enter.\n",
    "3. In the Python interpreter, import the `zoo` module as `menagerie` by typing `import zoo as menagerie` and pressing Enter.\n",
    "4. Call the `hours()` function using the `menagerie` module by typing `menagerie.hours()` and pressing Enter.\n",
    "\n",
    "Here's an example of what the complete process would look like:\n",
    "\n",
    "```python\n",
    "$ python\n",
    "Python 3.9.2 (default, Feb 24 2021, 13:46:16)\n",
    "[GCC 10.2.0] on linux\n",
    "Type \"help\", \"copyright\", \"credits\" or \"license\" for more information.\n",
    ">>> import zoo as menagerie\n",
    ">>> menagerie.hours()\n",
    "Open 9-5 daily\n",
    ">>>\n",
    "```\n",
    "\n",
    "By following these steps, we will have successfully imported the `zoo` module as `menagerie` in the interactive interpreter and called its `hours()` function using the `menagerie` module."
   ]
  },
  {
   "cell_type": "code",
   "execution_count": null,
   "id": "247199ee",
   "metadata": {},
   "outputs": [],
   "source": []
  },
  {
   "cell_type": "markdown",
   "id": "4f0c476f",
   "metadata": {},
   "source": [
    "Q3. Using the interpreter, explicitly import and call the hours() function from zoo."
   ]
  },
  {
   "cell_type": "code",
   "execution_count": null,
   "id": "06d40d7c",
   "metadata": {},
   "outputs": [],
   "source": [
    "$ python\n",
    "Python 3.9.2 (default, Feb 24 2021, 13:46:16)\n",
    "[GCC 10.2.0] on linux\n",
    "Type \"help\", \"copyright\", \"credits\" or \"license\" for more information.\n",
    ">>> from zoo import hours\n",
    ">>> hours()\n",
    "Open 9-5 daily\n",
    ">>>"
   ]
  },
  {
   "cell_type": "code",
   "execution_count": null,
   "id": "093276b0",
   "metadata": {},
   "outputs": [],
   "source": []
  },
  {
   "cell_type": "markdown",
   "id": "dbfdb1eb",
   "metadata": {},
   "source": [
    "Q4. Import the hours() function as info and call it."
   ]
  },
  {
   "cell_type": "markdown",
   "id": "8bcd9afa",
   "metadata": {},
   "source": [
    "To import the `hours()` function from the `zoo` module as `info` and call it in the Python interpreter, we can follow these steps:\n",
    "\n",
    "1. Open a terminal or command prompt.\n",
    "2. Launch the Python interpreter by typing `python` or `python3` (depending on our setup) and pressing Enter.\n",
    "3. Import the `hours()` function from the `zoo` module as `info` by typing `from zoo import hours as info` and pressing Enter.\n",
    "4. Call the `info()` function directly by typing `info()` and pressing Enter.\n",
    "\n",
    "Here's an example of what the complete process would look like:\n",
    "\n",
    "```python\n",
    "$ python\n",
    "Python 3.9.2 (default, Feb 24 2021, 13:46:16)\n",
    "[GCC 10.2.0] on linux\n",
    "Type \"help\", \"copyright\", \"credits\" or \"license\" for more information.\n",
    ">>> from zoo import hours as info\n",
    ">>> info()\n",
    "Open 9-5 daily\n",
    ">>>\n",
    "```\n",
    "\n",
    "By following these steps, we will have imported the `hours()` function from the `zoo` module as `info` and called it directly in the Python interpreter."
   ]
  },
  {
   "cell_type": "code",
   "execution_count": null,
   "id": "62f8a419",
   "metadata": {},
   "outputs": [],
   "source": []
  },
  {
   "cell_type": "markdown",
   "id": "b577ec78",
   "metadata": {},
   "source": [
    "Q5. Create a plain dictionary with the key-value pairs &#39;a&#39;: 1, &#39;b&#39;: 2, and &#39;c&#39;: 3, and print it out."
   ]
  },
  {
   "cell_type": "code",
   "execution_count": 1,
   "id": "fc6f5dd1",
   "metadata": {},
   "outputs": [
    {
     "name": "stdout",
     "output_type": "stream",
     "text": [
      "{'a': 1, 'b': 2, 'c': 3}\n"
     ]
    }
   ],
   "source": [
    "my_dict = {'a': 1, 'b': 2, 'c': 3}\n",
    "print(my_dict)"
   ]
  },
  {
   "cell_type": "code",
   "execution_count": null,
   "id": "8f307523",
   "metadata": {},
   "outputs": [],
   "source": []
  },
  {
   "cell_type": "markdown",
   "id": "70497ba4",
   "metadata": {},
   "source": [
    "Q6.Make an OrderedDict called fancy from the same pairs listed in 5 and print it. Did it print in the\n",
    "same order as plain?"
   ]
  },
  {
   "cell_type": "code",
   "execution_count": 2,
   "id": "6b84b139",
   "metadata": {},
   "outputs": [
    {
     "name": "stdout",
     "output_type": "stream",
     "text": [
      "OrderedDict([('a', 1), ('b', 2), ('c', 3)])\n"
     ]
    }
   ],
   "source": [
    "from collections import OrderedDict\n",
    "\n",
    "fancy = OrderedDict([('a', 1), ('b', 2), ('c', 3)])\n",
    "print(fancy)"
   ]
  },
  {
   "cell_type": "markdown",
   "id": "27269e96",
   "metadata": {},
   "source": [
    "The OrderedDict preserves the order in which the key-value pairs are inserted. In this case, it will print the same order as the plain dictionary created in question 5. The order of the items in the OrderedDict will be 'a': 1, 'b': 2, and 'c': 3."
   ]
  },
  {
   "cell_type": "code",
   "execution_count": null,
   "id": "d4dfd543",
   "metadata": {},
   "outputs": [],
   "source": []
  },
  {
   "cell_type": "markdown",
   "id": "7e8e0825",
   "metadata": {},
   "source": [
    "Q7. Make a default dictionary called dict_of_lists and pass it the argument list. Make the list\n",
    "dict_of_lists[&#39;a&#39;] and append the value &#39;something for a&#39; to it in one assignment. Print\n",
    "dict_of_lists[&#39;a&#39;]."
   ]
  },
  {
   "cell_type": "code",
   "execution_count": 3,
   "id": "25518780",
   "metadata": {},
   "outputs": [
    {
     "name": "stdout",
     "output_type": "stream",
     "text": [
      "['something for a']\n"
     ]
    }
   ],
   "source": [
    "from collections import defaultdict\n",
    "\n",
    "dict_of_lists = defaultdict(list)\n",
    "dict_of_lists['a'].append('something for a')\n",
    "print(dict_of_lists['a'])"
   ]
  },
  {
   "cell_type": "markdown",
   "id": "d260b8d5",
   "metadata": {},
   "source": [
    "When we run this code, it will create a defaultdict named dict_of_lists with a default value of an empty list. Then, it will append the value 'something for a' to the list assigned to the key 'a' in one assignment. Finally, it will print the value stored in dict_of_lists['a']."
   ]
  },
  {
   "cell_type": "code",
   "execution_count": 4,
   "id": "66421c63",
   "metadata": {},
   "outputs": [
    {
     "data": {
      "text/plain": [
       "defaultdict(list, {'a': ['something for a']})"
      ]
     },
     "execution_count": 4,
     "metadata": {},
     "output_type": "execute_result"
    }
   ],
   "source": [
    "dict_of_lists"
   ]
  },
  {
   "cell_type": "code",
   "execution_count": null,
   "id": "42a100d3",
   "metadata": {},
   "outputs": [],
   "source": []
  }
 ],
 "metadata": {
  "kernelspec": {
   "display_name": "Python 3 (ipykernel)",
   "language": "python",
   "name": "python3"
  },
  "language_info": {
   "codemirror_mode": {
    "name": "ipython",
    "version": 3
   },
   "file_extension": ".py",
   "mimetype": "text/x-python",
   "name": "python",
   "nbconvert_exporter": "python",
   "pygments_lexer": "ipython3",
   "version": "3.9.12"
  }
 },
 "nbformat": 4,
 "nbformat_minor": 5
}

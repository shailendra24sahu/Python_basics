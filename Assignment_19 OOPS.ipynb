{
 "cells": [
  {
   "cell_type": "markdown",
   "id": "273710cc",
   "metadata": {},
   "source": [
    "Q1. Make a class called Thing with no contents and print it. Then, create an object called example\n",
    "from this class and also print it. Are the printed values the same or different?"
   ]
  },
  {
   "cell_type": "code",
   "execution_count": 1,
   "id": "90313a93",
   "metadata": {},
   "outputs": [
    {
     "name": "stdout",
     "output_type": "stream",
     "text": [
      "<class '__main__.Thing'>\n",
      "<__main__.Thing object at 0x0000001006F06EE0>\n"
     ]
    }
   ],
   "source": [
    "class Thing:\n",
    "    pass\n",
    "\n",
    "# Creating an instance of the Thing class\n",
    "example = Thing()\n",
    "\n",
    "# Printing the class and object\n",
    "print(Thing)\n",
    "print(example)"
   ]
  },
  {
   "cell_type": "markdown",
   "id": "10c1089e",
   "metadata": {},
   "source": [
    "When we run this code, we  see that the printed values for the class Thing and the object example are different. The class itself is displayed as <class '__main__.Thing'>, indicating that it is an instance of the Thing class defined in the current module. On the other hand, the object example is displayed as <__main__.Thing object at 0x...>, showing that it is an instance of the Thing class located at a specific memory address.\n",
    "\n",
    "The printed values for the class and object are different because the class is a blueprint or a template for creating objects, whereas the object is an actual instance of that class, occupying a specific memory location."
   ]
  },
  {
   "cell_type": "code",
   "execution_count": null,
   "id": "6d76d7e8",
   "metadata": {},
   "outputs": [],
   "source": []
  },
  {
   "cell_type": "markdown",
   "id": "6ff0f138",
   "metadata": {},
   "source": [
    "Q2. Create a new class called Thing2 and add the value &#39;abc&#39; to the letters class attribute. Letters\n",
    "should be printed."
   ]
  },
  {
   "cell_type": "code",
   "execution_count": 2,
   "id": "4fd3048f",
   "metadata": {},
   "outputs": [
    {
     "name": "stdout",
     "output_type": "stream",
     "text": [
      "abc\n"
     ]
    }
   ],
   "source": [
    "class Thing2:\n",
    "    letters = 'abc'\n",
    "\n",
    "# Printing the value of the `letters` class attribute\n",
    "print(Thing2.letters)"
   ]
  },
  {
   "cell_type": "code",
   "execution_count": null,
   "id": "9f3db8d9",
   "metadata": {},
   "outputs": [],
   "source": []
  },
  {
   "cell_type": "markdown",
   "id": "43051870",
   "metadata": {},
   "source": [
    "Q3. Make yet another class called, of course, Thing3. This time, assign the value &#39;xyz&#39; to an instance\n",
    "(object) attribute called letters. Print letters. Do you need to make an object from the class to do\n",
    "this?"
   ]
  },
  {
   "cell_type": "code",
   "execution_count": 3,
   "id": "4dbf1974",
   "metadata": {},
   "outputs": [
    {
     "name": "stdout",
     "output_type": "stream",
     "text": [
      "xyz\n"
     ]
    }
   ],
   "source": [
    "class Thing3:\n",
    "    def __init__(self):\n",
    "        self.letters = 'xyz'\n",
    "\n",
    "# Creating an instance of the Thing3 class\n",
    "example = Thing3()\n",
    "\n",
    "# Accessing and printing the instance attribute\n",
    "print(example.letters)"
   ]
  },
  {
   "cell_type": "markdown",
   "id": "3c55e95e",
   "metadata": {},
   "source": [
    "Yes we needed to make an object from the class to do this."
   ]
  },
  {
   "cell_type": "code",
   "execution_count": null,
   "id": "666fe699",
   "metadata": {},
   "outputs": [],
   "source": []
  },
  {
   "cell_type": "markdown",
   "id": "5e2011ee",
   "metadata": {},
   "source": [
    "Q4. Create an Element class with the instance attributes name, symbol, and number. Create a class\n",
    "object with the values &#39;Hydrogen,&#39; &#39;H,&#39; and 1."
   ]
  },
  {
   "cell_type": "code",
   "execution_count": 2,
   "id": "e39f8dfc",
   "metadata": {},
   "outputs": [],
   "source": [
    "class Element:\n",
    "    def __init__(self, name, symbol, number):\n",
    "        self.name = name\n",
    "        self.symbol = symbol\n",
    "        self.number = number\n",
    "\n",
    "# Creating a class object with the specified values\n",
    "hydrogen = Element('Hydrogen', 'H', 1)"
   ]
  },
  {
   "cell_type": "code",
   "execution_count": null,
   "id": "7d5be4c7",
   "metadata": {},
   "outputs": [],
   "source": []
  },
  {
   "cell_type": "markdown",
   "id": "5ad05dc8",
   "metadata": {},
   "source": [
    "Q5. Make a dictionary with these keys and values: &#39;name&#39;: &#39;Hydrogen&#39;, &#39;symbol&#39;: &#39;H&#39;, &#39;number&#39;: 1. Then,\n",
    "create an object called hydrogen from class Element using this dictionary."
   ]
  },
  {
   "cell_type": "code",
   "execution_count": 3,
   "id": "ae55afeb",
   "metadata": {},
   "outputs": [],
   "source": [
    "# Creating a dictionary with the specified keys and values\n",
    "element_dict = {'name': 'Hydrogen', 'symbol': 'H', 'number': 1}\n",
    "\n",
    "# Creating an object 'hydrogen' from the 'Element' class using the dictionary\n",
    "hydrogen = Element(**element_dict)"
   ]
  },
  {
   "cell_type": "code",
   "execution_count": 4,
   "id": "a2bf75d4",
   "metadata": {},
   "outputs": [
    {
     "data": {
      "text/plain": [
       "<__main__.Element at 0xd890100370>"
      ]
     },
     "execution_count": 4,
     "metadata": {},
     "output_type": "execute_result"
    }
   ],
   "source": [
    "hydrogen"
   ]
  },
  {
   "cell_type": "code",
   "execution_count": null,
   "id": "8c069643",
   "metadata": {},
   "outputs": [],
   "source": []
  },
  {
   "cell_type": "markdown",
   "id": "5627b76d",
   "metadata": {},
   "source": [
    "Q6. For the Element class, define a method called dump() that prints the values of the object’s\n",
    "attributes (name, symbol, and number). Create the hydrogen object from this new definition and\n",
    "use dump() to print its attributes."
   ]
  },
  {
   "cell_type": "code",
   "execution_count": 7,
   "id": "a515136c",
   "metadata": {},
   "outputs": [],
   "source": [
    "class Element:\n",
    "    def __init__(self, name, symbol, number):\n",
    "        self.name = name\n",
    "        self.symbol = symbol\n",
    "        self.number = number\n",
    "    \n",
    "    def dump(self):\n",
    "        print(f\"Name: {self.name}\")\n",
    "        print(f\"Symbol: {self.symbol}\")\n",
    "        print(f\"Number: {self.number}\")"
   ]
  },
  {
   "cell_type": "code",
   "execution_count": 8,
   "id": "1e2749a1",
   "metadata": {},
   "outputs": [
    {
     "name": "stdout",
     "output_type": "stream",
     "text": [
      "Name: Hydrogen\n",
      "Symbol: H\n",
      "Number: 1\n"
     ]
    }
   ],
   "source": [
    "# Creating an instance of the Element class\n",
    "hydrogen = Element('Hydrogen', 'H', 1)\n",
    "\n",
    "# Using the dump() method to print the attributes\n",
    "hydrogen.dump()"
   ]
  },
  {
   "cell_type": "code",
   "execution_count": null,
   "id": "87bd3af0",
   "metadata": {},
   "outputs": [],
   "source": []
  },
  {
   "cell_type": "markdown",
   "id": "4e627151",
   "metadata": {},
   "source": [
    "Q7. Call print(hydrogen). In the definition of Element, change the name of method dump to ```__str__```\n",
    "create a new hydrogen object, and call print(hydrogen) again."
   ]
  },
  {
   "cell_type": "code",
   "execution_count": 9,
   "id": "566f5e07",
   "metadata": {},
   "outputs": [
    {
     "name": "stdout",
     "output_type": "stream",
     "text": [
      "<__main__.Element object at 0x000000D8944C8520>\n"
     ]
    }
   ],
   "source": [
    "print(hydrogen)"
   ]
  },
  {
   "cell_type": "code",
   "execution_count": 14,
   "id": "c4f5eaa1",
   "metadata": {},
   "outputs": [],
   "source": [
    "class Element:\n",
    "    def __init__(self, name, symbol, number):\n",
    "        self.name = name\n",
    "        self.symbol = symbol\n",
    "        self.number = number\n",
    "    \n",
    "    def __str__(self):\n",
    "        return f\"Name: {self.name}, Symbol: {self.symbol}, Number: {self.number}\""
   ]
  },
  {
   "cell_type": "code",
   "execution_count": 15,
   "id": "eda4f340",
   "metadata": {},
   "outputs": [
    {
     "name": "stdout",
     "output_type": "stream",
     "text": [
      "Name: Hydrogen, Symbol: H, Number: 1\n"
     ]
    }
   ],
   "source": [
    "hydrogen = Element('Hydrogen', 'H', 1)\n",
    "print(hydrogen)"
   ]
  },
  {
   "cell_type": "markdown",
   "id": "756ca352",
   "metadata": {},
   "source": [
    "- When we call print(hydrogen) directly, it will invoke the ````__str__()```` method of the Element class.\n",
    "- This special method is automatically called when we use the str() function or print() function on an object. It returns a string representation of the object.\n",
    "- The ````__str__()```` method provides a more concise and user-friendly representation of the Element object when printed."
   ]
  },
  {
   "cell_type": "code",
   "execution_count": 16,
   "id": "781c10dc",
   "metadata": {},
   "outputs": [
    {
     "data": {
      "text/plain": [
       "'Name: Hydrogen, Symbol: H, Number: 1'"
      ]
     },
     "execution_count": 16,
     "metadata": {},
     "output_type": "execute_result"
    }
   ],
   "source": [
    "str(hydrogen)"
   ]
  },
  {
   "cell_type": "code",
   "execution_count": null,
   "id": "35221479",
   "metadata": {},
   "outputs": [],
   "source": []
  },
  {
   "cell_type": "markdown",
   "id": "38e0ba12",
   "metadata": {},
   "source": [
    "Q8. Modify Element to make the attributes name, symbol, and number private. Define a getter\n",
    "property for each to return its value."
   ]
  },
  {
   "cell_type": "markdown",
   "id": "b7e2aad7",
   "metadata": {},
   "source": [
    "To make the attributes name, symbol, and number private in the Element class, we can prefix them with double underscores (__). This will effectively make them name-mangled, indicating that they should be treated as private attributes.\n",
    "\n",
    "To access the values of these private attributes, we can define getter properties using the @property decorator. Here's the modified code:"
   ]
  },
  {
   "cell_type": "code",
   "execution_count": 17,
   "id": "f993385c",
   "metadata": {},
   "outputs": [],
   "source": [
    "class Element:\n",
    "    def __init__(self, name, symbol, number):\n",
    "        self.__name = name\n",
    "        self.__symbol = symbol\n",
    "        self.__number = number\n",
    "    \n",
    "    @property\n",
    "    def name(self):\n",
    "        return self.__name\n",
    "    \n",
    "    @property\n",
    "    def symbol(self):\n",
    "        return self.__symbol\n",
    "    \n",
    "    @property\n",
    "    def number(self):\n",
    "        return self.__number"
   ]
  },
  {
   "cell_type": "code",
   "execution_count": 18,
   "id": "ccc49281",
   "metadata": {},
   "outputs": [
    {
     "name": "stdout",
     "output_type": "stream",
     "text": [
      "Hydrogen\n",
      "H\n",
      "1\n"
     ]
    }
   ],
   "source": [
    "# Creating an instance of the Element class\n",
    "hydrogen = Element('Hydrogen', 'H', 1)\n",
    "\n",
    "# Using the getter properties to access the attribute values\n",
    "print(hydrogen.name)    \n",
    "print(hydrogen.symbol)  \n",
    "print(hydrogen.number)  "
   ]
  },
  {
   "cell_type": "code",
   "execution_count": null,
   "id": "50cb0cc8",
   "metadata": {},
   "outputs": [],
   "source": []
  },
  {
   "cell_type": "markdown",
   "id": "5eb8b6f6",
   "metadata": {},
   "source": [
    "Q9. Define three classes: Bear, Rabbit, and Octothorpe. For each, define only one method: eats(). This\n",
    "should return &#39;berries&#39; (Bear), &#39;clover&#39; (Rabbit), or &#39;campers&#39; (Octothorpe). Create one object from\n",
    "each and print what it eats."
   ]
  },
  {
   "cell_type": "code",
   "execution_count": 24,
   "id": "d15aa87c",
   "metadata": {},
   "outputs": [],
   "source": [
    "class Bear:\n",
    "    def eats(self):\n",
    "        return 'berries'\n",
    "\n",
    "class Rabbit:\n",
    "    def eats(self):\n",
    "        return 'clover'\n",
    "\n",
    "class Octothorpe:\n",
    "    def eats(self):\n",
    "        return 'campers'"
   ]
  },
  {
   "cell_type": "code",
   "execution_count": 25,
   "id": "c8430acb",
   "metadata": {},
   "outputs": [
    {
     "name": "stdout",
     "output_type": "stream",
     "text": [
      "berries\n",
      "clover\n",
      "campers\n"
     ]
    }
   ],
   "source": [
    "# Creating objects from each class\n",
    "bear = Bear()\n",
    "rabbit = Rabbit()\n",
    "octothorpe = Octothorpe()\n",
    "\n",
    "# Printing what each object eats\n",
    "print(bear.eats())       \n",
    "print(rabbit.eats())     \n",
    "print(octothorpe.eats()) "
   ]
  },
  {
   "cell_type": "code",
   "execution_count": null,
   "id": "a6969b99",
   "metadata": {},
   "outputs": [],
   "source": []
  },
  {
   "cell_type": "markdown",
   "id": "d282e8fb",
   "metadata": {},
   "source": [
    "Q10. \n",
    "- Define these classes: Laser, Claw, and SmartPhone. \n",
    "- Each has only one method: does(). This returns &#39;disintegrate&#39; (Laser), &#39;crush&#39; (Claw), or &#39;ring&#39; (SmartPhone). \n",
    "- Then, define the class Robot that has one instance (object) of each of these. \n",
    "- Define a does() method for the Robot that prints what itscomponent objects do."
   ]
  },
  {
   "cell_type": "code",
   "execution_count": 26,
   "id": "3c8ef400",
   "metadata": {},
   "outputs": [],
   "source": [
    "class Laser:\n",
    "    def does(self):\n",
    "        return 'disintegrate'\n",
    "\n",
    "class Claw:\n",
    "    def does(self):\n",
    "        return 'crush'\n",
    "\n",
    "class SmartPhone:\n",
    "    def does(self):\n",
    "        return 'ring'\n",
    "\n",
    "class Robot:\n",
    "    def __init__(self):\n",
    "        self.laser = Laser()\n",
    "        self.claw = Claw()\n",
    "        self.smartphone = SmartPhone()\n",
    "\n",
    "    def does(self):\n",
    "        print(\"Laser:\", self.laser.does())\n",
    "        print(\"Claw:\", self.claw.does())\n",
    "        print(\"SmartPhone:\", self.smartphone.does())"
   ]
  },
  {
   "cell_type": "code",
   "execution_count": 27,
   "id": "3d50f9e9",
   "metadata": {},
   "outputs": [
    {
     "name": "stdout",
     "output_type": "stream",
     "text": [
      "Laser: disintegrate\n",
      "Claw: crush\n",
      "SmartPhone: ring\n"
     ]
    }
   ],
   "source": [
    "# Creating an instance of the Robot class\n",
    "robot = Robot()\n",
    "\n",
    "# Calling the does() method of the Robot object\n",
    "robot.does()"
   ]
  },
  {
   "cell_type": "code",
   "execution_count": null,
   "id": "7787bb77",
   "metadata": {},
   "outputs": [],
   "source": []
  }
 ],
 "metadata": {
  "kernelspec": {
   "display_name": "Python 3 (ipykernel)",
   "language": "python",
   "name": "python3"
  },
  "language_info": {
   "codemirror_mode": {
    "name": "ipython",
    "version": 3
   },
   "file_extension": ".py",
   "mimetype": "text/x-python",
   "name": "python",
   "nbconvert_exporter": "python",
   "pygments_lexer": "ipython3",
   "version": "3.9.12"
  }
 },
 "nbformat": 4,
 "nbformat_minor": 5
}

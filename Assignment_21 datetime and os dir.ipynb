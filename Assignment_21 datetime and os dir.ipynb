{
 "cells": [
  {
   "cell_type": "markdown",
   "id": "0ae12e95",
   "metadata": {},
   "source": [
    "Q1. Add the current date to the text file today.txt as a string."
   ]
  },
  {
   "cell_type": "code",
   "execution_count": 1,
   "id": "2058c647",
   "metadata": {},
   "outputs": [],
   "source": [
    "import datetime\n",
    "\n",
    "# Get the current date\n",
    "current_date = datetime.date.today()\n",
    "\n",
    "# Open the file in append mode and write the date\n",
    "with open(\"today.txt\", \"a\") as file:\n",
    "    file.write(str(current_date) + \"\\n\")"
   ]
  },
  {
   "cell_type": "code",
   "execution_count": null,
   "id": "518227d7",
   "metadata": {},
   "outputs": [],
   "source": []
  },
  {
   "cell_type": "markdown",
   "id": "f0c54563",
   "metadata": {},
   "source": [
    "Q2. Read the text file today.txt into the string today_string"
   ]
  },
  {
   "cell_type": "code",
   "execution_count": 2,
   "id": "a2aafd4e",
   "metadata": {},
   "outputs": [
    {
     "name": "stdout",
     "output_type": "stream",
     "text": [
      "2023-05-22\n",
      "\n"
     ]
    }
   ],
   "source": [
    "# Open the file in read mode and read its contents\n",
    "with open(\"today.txt\", \"r\") as file:\n",
    "    today_string = file.read()\n",
    "\n",
    "# Print the content of today_string\n",
    "print(today_string)"
   ]
  },
  {
   "cell_type": "code",
   "execution_count": null,
   "id": "34935d5f",
   "metadata": {},
   "outputs": [],
   "source": []
  },
  {
   "cell_type": "markdown",
   "id": "d40e8f21",
   "metadata": {},
   "source": [
    "Q3. Parse the date from today_string."
   ]
  },
  {
   "cell_type": "code",
   "execution_count": 3,
   "id": "d9ab1487",
   "metadata": {},
   "outputs": [
    {
     "name": "stdout",
     "output_type": "stream",
     "text": [
      "2023-05-22\n"
     ]
    }
   ],
   "source": [
    "import datetime\n",
    "\n",
    "# Parse the date from today_string\n",
    "parsed_date = datetime.datetime.strptime(today_string.strip(), \"%Y-%m-%d\").date()\n",
    "\n",
    "# Print the parsed date\n",
    "print(parsed_date)"
   ]
  },
  {
   "cell_type": "code",
   "execution_count": null,
   "id": "5ae2512e",
   "metadata": {},
   "outputs": [],
   "source": []
  },
  {
   "cell_type": "markdown",
   "id": "a97d1349",
   "metadata": {},
   "source": [
    "Q4. List the files in your current directory"
   ]
  },
  {
   "cell_type": "code",
   "execution_count": 4,
   "id": "9c63e2f7",
   "metadata": {},
   "outputs": [
    {
     "name": "stdout",
     "output_type": "stream",
     "text": [
      ".ipynb_checkpoints\n",
      "21.ipynb\n",
      "Assignment_10.ipynb\n",
      "Assignment_11.ipynb\n",
      "Assignment_12.ipynb\n",
      "Assignment_13.ipynb\n",
      "Assignment_14.ipynb\n",
      "Assignment_16.ipynb\n",
      "Assignment_17.ipynb\n",
      "Assignment_18.ipynb\n",
      "Assignment_19 OOPS.ipynb\n",
      "Assignment_20 file and sql connect.ipynb\n",
      "Assignment_9.ipynb\n",
      "books.csv\n",
      "books.db\n",
      "image.png\n",
      "image2.jpg\n",
      "test.txt\n",
      "today.txt\n"
     ]
    }
   ],
   "source": [
    "import os\n",
    "\n",
    "# Get the list of files in the current directory\n",
    "files = os.listdir()\n",
    "\n",
    "# Print the list of files\n",
    "for file in files:\n",
    "    print(file)"
   ]
  },
  {
   "cell_type": "code",
   "execution_count": null,
   "id": "3082444d",
   "metadata": {},
   "outputs": [],
   "source": []
  },
  {
   "cell_type": "markdown",
   "id": "46b508a2",
   "metadata": {},
   "source": [
    "Q5. Create a list of all of the files in your parent directory (minimum five files should be available)."
   ]
  },
  {
   "cell_type": "code",
   "execution_count": 5,
   "id": "5342619e",
   "metadata": {},
   "outputs": [
    {
     "name": "stdout",
     "output_type": "stream",
     "text": [
      ".ipynb_checkpoints\n",
      "DS_Assignments\n",
      "ML_assn\n",
      "My Notes.ipynb\n",
      "Python advanced\n",
      "Python basic assn\n",
      "Python programming assignments\n"
     ]
    }
   ],
   "source": [
    "import os\n",
    "\n",
    "# Get the parent directory path\n",
    "parent_directory = os.path.abspath(os.path.join(os.getcwd(), os.pardir))\n",
    "\n",
    "# Get the list of files in the parent directory\n",
    "files = os.listdir(parent_directory)\n",
    "\n",
    "# Print the list of files\n",
    "for file in files:\n",
    "    print(file)"
   ]
  },
  {
   "cell_type": "code",
   "execution_count": null,
   "id": "7f3d5333",
   "metadata": {},
   "outputs": [],
   "source": []
  },
  {
   "cell_type": "markdown",
   "id": "6879a729",
   "metadata": {},
   "source": [
    "Q6. Use multiprocessing to create three separate processes. Make each one wait a random number of\n",
    "seconds between one and five, print the current time, and then exit."
   ]
  },
  {
   "cell_type": "code",
   "execution_count": 6,
   "id": "4f903469",
   "metadata": {},
   "outputs": [],
   "source": [
    "import multiprocessing\n",
    "import time\n",
    "import random\n",
    "from datetime import datetime\n",
    "\n",
    "def process_function():\n",
    "    # Generate a random sleep duration between 1 and 5 seconds\n",
    "    sleep_duration = random.randint(1, 5)\n",
    "\n",
    "    # Sleep for the generated duration\n",
    "    time.sleep(sleep_duration)\n",
    "\n",
    "    # Get the current time\n",
    "    current_time = datetime.now().strftime(\"%Y-%m-%d %H:%M:%S\")\n",
    "\n",
    "    # Print the current time\n",
    "    print(\"Current time:\", current_time)\n",
    "\n",
    "# Create three separate processes\n",
    "processes = []\n",
    "for _ in range(3):\n",
    "    process = multiprocessing.Process(target=process_function)\n",
    "    processes.append(process)\n",
    "    process.start()\n",
    "\n",
    "# Wait for all processes to finish\n",
    "for process in processes:\n",
    "    process.join()"
   ]
  },
  {
   "cell_type": "markdown",
   "id": "b3e7661a",
   "metadata": {},
   "source": [
    "In this code, we define a process_function() that generates a random sleep duration using random.randint() between 1 and 5 seconds. The process then sleeps for that duration using time.sleep(). Next, it gets the current time using datetime.now().strftime() and prints it.\n",
    "\n",
    "We create three separate processes by using a loop to create instances of multiprocessing.Process with target set to process_function. We start each process using process.start(). Finally, we wait for all processes to finish using process.join().\n",
    "\n",
    "When we execute this code, it will create three separate processes that run concurrently. Each process will sleep for a random duration, print the current time, and then exit.\n",
    "\n",
    "Please note that the order in which the processes finish and print their output may vary due to the concurrent nature of multiprocessing."
   ]
  },
  {
   "cell_type": "code",
   "execution_count": null,
   "id": "ebc11dd8",
   "metadata": {},
   "outputs": [],
   "source": []
  },
  {
   "cell_type": "markdown",
   "id": "4ef2c896",
   "metadata": {},
   "source": [
    "Q7. Create a date object of your day of birth."
   ]
  },
  {
   "cell_type": "code",
   "execution_count": 11,
   "id": "78224b85",
   "metadata": {},
   "outputs": [
    {
     "name": "stdout",
     "output_type": "stream",
     "text": [
      "1992-10-24\n"
     ]
    }
   ],
   "source": [
    "from datetime import date\n",
    "\n",
    "# Specify day of birth\n",
    "year = 1992\n",
    "month = 10\n",
    "day = 24\n",
    "\n",
    "# Create a date object for day of birth\n",
    "birth_date = date(year, month, day)\n",
    "\n",
    "# Print the birth date\n",
    "print(birth_date)"
   ]
  },
  {
   "cell_type": "code",
   "execution_count": null,
   "id": "1485b181",
   "metadata": {},
   "outputs": [],
   "source": []
  },
  {
   "cell_type": "markdown",
   "id": "098f932b",
   "metadata": {},
   "source": [
    "Q8. What day of the week was your day of birth?"
   ]
  },
  {
   "cell_type": "code",
   "execution_count": 12,
   "id": "13bc8062",
   "metadata": {},
   "outputs": [
    {
     "name": "stdout",
     "output_type": "stream",
     "text": [
      "Day of birth: Saturday\n"
     ]
    }
   ],
   "source": [
    "# Get the day of the week\n",
    "day_of_week = birth_date.strftime(\"%A\")\n",
    "\n",
    "# Print the day of the week\n",
    "print(\"Day of birth:\", day_of_week)"
   ]
  },
  {
   "cell_type": "code",
   "execution_count": null,
   "id": "7b9c637c",
   "metadata": {},
   "outputs": [],
   "source": []
  },
  {
   "cell_type": "markdown",
   "id": "510bdfb4",
   "metadata": {},
   "source": [
    "Q9. When will you be (or when were you) 10,000 days old?"
   ]
  },
  {
   "cell_type": "code",
   "execution_count": 13,
   "id": "060a15c8",
   "metadata": {},
   "outputs": [
    {
     "ename": "NameError",
     "evalue": "name 'timedelta' is not defined",
     "output_type": "error",
     "traceback": [
      "\u001b[1;31m---------------------------------------------------------------------------\u001b[0m",
      "\u001b[1;31mNameError\u001b[0m                                 Traceback (most recent call last)",
      "Input \u001b[1;32mIn [13]\u001b[0m, in \u001b[0;36m<cell line: 2>\u001b[1;34m()\u001b[0m\n\u001b[0;32m      1\u001b[0m \u001b[38;5;66;03m# Calculate the date when 10,000 days will be reached\u001b[39;00m\n\u001b[1;32m----> 2\u001b[0m target_date \u001b[38;5;241m=\u001b[39m birth_date \u001b[38;5;241m+\u001b[39m \u001b[43mtimedelta\u001b[49m(days\u001b[38;5;241m=\u001b[39m\u001b[38;5;241m10000\u001b[39m)\n\u001b[0;32m      4\u001b[0m \u001b[38;5;66;03m# Print the target date\u001b[39;00m\n\u001b[0;32m      5\u001b[0m \u001b[38;5;28mprint\u001b[39m(\u001b[38;5;124m\"\u001b[39m\u001b[38;5;124m10,000 days old:\u001b[39m\u001b[38;5;124m\"\u001b[39m, target_date)\n",
      "\u001b[1;31mNameError\u001b[0m: name 'timedelta' is not defined"
     ]
    }
   ],
   "source": [
    "# Calculate the date when 10,000 days will be reached\n",
    "target_date = birth_date + timedelta(days=10000)\n",
    "\n",
    "# Print the target date\n",
    "print(\"10,000 days old:\", target_date)"
   ]
  },
  {
   "cell_type": "code",
   "execution_count": null,
   "id": "f1a9b0ba",
   "metadata": {},
   "outputs": [],
   "source": []
  }
 ],
 "metadata": {
  "kernelspec": {
   "display_name": "Python 3 (ipykernel)",
   "language": "python",
   "name": "python3"
  },
  "language_info": {
   "codemirror_mode": {
    "name": "ipython",
    "version": 3
   },
   "file_extension": ".py",
   "mimetype": "text/x-python",
   "name": "python",
   "nbconvert_exporter": "python",
   "pygments_lexer": "ipython3",
   "version": "3.9.12"
  }
 },
 "nbformat": 4,
 "nbformat_minor": 5
}

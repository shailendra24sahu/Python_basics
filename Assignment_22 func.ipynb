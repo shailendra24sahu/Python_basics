{
 "cells": [
  {
   "cell_type": "markdown",
   "id": "bfc03af3",
   "metadata": {},
   "source": [
    "Q1. What is the result of the code, and explain?\n",
    "\n",
    "&gt;&gt;&gt; X = &#39;iNeuron&#39;\n",
    "&gt;&gt;&gt; def func():\n",
    "print(X)\n",
    "\n",
    "&gt;&gt;&gt; func()"
   ]
  },
  {
   "cell_type": "code",
   "execution_count": 2,
   "id": "8f03fd19",
   "metadata": {},
   "outputs": [
    {
     "name": "stdout",
     "output_type": "stream",
     "text": [
      "iNeuron\n"
     ]
    }
   ],
   "source": [
    "X = 'iNeuron' \n",
    "def func():\n",
    "    print(X)\n",
    "\n",
    "func()"
   ]
  },
  {
   "cell_type": "markdown",
   "id": "705e6118",
   "metadata": {},
   "source": [
    "The code defines a variable X and assigns it the value \"iNeuron\". Then, a function named func() is defined, which simply prints the value of X when called.\n",
    "\n",
    "When the function func() is called, it prints the value of X, which is \"iNeuron\". This happens because the function has access to the global variables defined outside of it, and X is defined as a global variable in this case. Therefore, when func() is executed, it prints the value of X, resulting in the output \"iNeuron\"."
   ]
  },
  {
   "cell_type": "code",
   "execution_count": null,
   "id": "252c2669",
   "metadata": {},
   "outputs": [],
   "source": []
  },
  {
   "cell_type": "markdown",
   "id": "8172e233",
   "metadata": {},
   "source": [
    "Q2. What is the result of the code, and explain?\n",
    "\n",
    "&gt;&gt;&gt; X = &#39;iNeuron&#39;\n",
    "&gt;&gt;&gt; def func():\n",
    "X = &#39;NI!&#39;\n",
    "\n",
    "&gt;&gt;&gt; func()\n",
    "&gt;&gt;&gt; print(X)"
   ]
  },
  {
   "cell_type": "code",
   "execution_count": 3,
   "id": "6b2956ce",
   "metadata": {},
   "outputs": [
    {
     "name": "stdout",
     "output_type": "stream",
     "text": [
      "iNeuron\n"
     ]
    }
   ],
   "source": [
    "X = 'iNeuron' \n",
    "def func():\n",
    "    X = 'NI!'\n",
    "\n",
    "func() \n",
    "print(X)"
   ]
  },
  {
   "cell_type": "markdown",
   "id": "0f9b9d62",
   "metadata": {},
   "source": [
    "In the code snippet, a global variable X is defined and assigned the value \"iNeuron\". Then, a function named func() is defined, which assigns the value \"NI!\" to a local variable X within the function's scope.\n",
    "\n",
    "When the function func() is called, it updates the value of the local variable X to \"NI!\". However, this local variable X is separate and independent from the global variable X. Therefore, modifying the local variable X within the function does not affect the value of the global variable X outside the function.\n",
    "\n",
    "After calling func(), when print(X) is executed, it refers to the global variable X and prints its value, which is still \"iNeuron\". Thus, the output will be \"iNeuron\"."
   ]
  },
  {
   "cell_type": "code",
   "execution_count": null,
   "id": "06963eba",
   "metadata": {},
   "outputs": [],
   "source": []
  },
  {
   "cell_type": "markdown",
   "id": "8b1110a1",
   "metadata": {},
   "source": [
    "Q3. What does this code print, and why?\n",
    "\n",
    "&gt;&gt;&gt; X = &#39;iNeuron&#39;\n",
    "&gt;&gt;&gt; def func():\n",
    "X = &#39;NI&#39;\n",
    "print(X)\n",
    "\n",
    "&gt;&gt;&gt; func()\n",
    "&gt;&gt;&gt; print(X)"
   ]
  },
  {
   "cell_type": "code",
   "execution_count": 4,
   "id": "e355f5ce",
   "metadata": {},
   "outputs": [
    {
     "name": "stdout",
     "output_type": "stream",
     "text": [
      "NI\n",
      "iNeuron\n"
     ]
    }
   ],
   "source": [
    "X = 'iNeuron' \n",
    "def func(): \n",
    "    X = 'NI' \n",
    "    print(X)\n",
    "\n",
    "func()\n",
    "print(X)"
   ]
  },
  {
   "cell_type": "markdown",
   "id": "41d63a6f",
   "metadata": {},
   "source": [
    "In the code snippet, a global variable X is defined and assigned the value \"iNeuron\". Then, a function named func() is defined, which assigns the value \"NI\" to a local variable X within the function's scope and prints its value.\n",
    "\n",
    "When the function func() is called, it updates the value of the local variable X to \"NI\" and prints it, resulting in the output \"NI\". This local variable X is separate and independent from the global variable X, so modifying the local variable within the function does not affect the value of the global variable.\n",
    "\n",
    "After the function call, when print(X) is executed, it refers to the global variable X and prints its value, which is still \"iNeuron\". Hence, the output will be \"iNeuron\"."
   ]
  },
  {
   "cell_type": "code",
   "execution_count": null,
   "id": "fa6bc383",
   "metadata": {},
   "outputs": [],
   "source": []
  },
  {
   "cell_type": "markdown",
   "id": "b006edd2",
   "metadata": {},
   "source": [
    "Q4. What output does this code produce? Why?\n",
    "\n",
    "&gt;&gt;&gt; X = &#39;iNeuron&#39;\n",
    "&gt;&gt;&gt; def func():\n",
    "global X\n",
    "X = &#39;NI&#39;\n",
    "\n",
    "&gt;&gt;&gt; func()\n",
    "&gt;&gt;&gt; print(X)"
   ]
  },
  {
   "cell_type": "code",
   "execution_count": 8,
   "id": "27694f2b",
   "metadata": {},
   "outputs": [
    {
     "name": "stdout",
     "output_type": "stream",
     "text": [
      "NI\n"
     ]
    }
   ],
   "source": [
    "X = 'iNeuron' \n",
    "def func():\n",
    "    global X\n",
    "    X = 'NI'\n",
    "\n",
    "func()\n",
    "print(X)"
   ]
  },
  {
   "cell_type": "markdown",
   "id": "1581a385",
   "metadata": {},
   "source": [
    "In the code snippet, a global variable X is defined and assigned the value \"iNeuron\". Then, a function named func() is defined. Within the function, the global keyword is used to indicate that the variable X being referenced is the global variable X declared outside the function.\n",
    "\n",
    "When the function func() is called, it updates the value of the global variable X to \"NI\" using the assignment statement X = 'NI'. Since the global keyword is used, the assignment affects the global variable X instead of creating a new local variable within the function.\n",
    "\n",
    "After the function call, when print(X) is executed, it refers to the updated global variable X, which now holds the value \"NI\". Therefore, the output will be \"NI\". The global variable X has been modified by the function func() due to the global declaration."
   ]
  },
  {
   "cell_type": "code",
   "execution_count": null,
   "id": "c6360230",
   "metadata": {},
   "outputs": [],
   "source": []
  },
  {
   "cell_type": "markdown",
   "id": "66b844a0",
   "metadata": {},
   "source": [
    "Q5. What about this code—what’s the output, and why?\n",
    "&gt;&gt;&gt; X = &#39;iNeuron&#39;\n",
    "&gt;&gt;&gt; def func():\n",
    "X = &#39;NI&#39;\n",
    "def nested():\n",
    "print(X)\n",
    "nested()\n",
    "\n",
    "&gt;&gt;&gt; func()\n",
    "&gt;&gt;&gt; X"
   ]
  },
  {
   "cell_type": "code",
   "execution_count": 10,
   "id": "bd3129ec",
   "metadata": {},
   "outputs": [
    {
     "data": {
      "text/plain": [
       "'iNeuron'"
      ]
     },
     "execution_count": 10,
     "metadata": {},
     "output_type": "execute_result"
    }
   ],
   "source": [
    "X = 'iNeuron' \n",
    "def func(): \n",
    "    X = 'NI' \n",
    "    def nested(): \n",
    "        print(X) \n",
    "        nested()\n",
    "\n",
    "func()\n",
    "X"
   ]
  },
  {
   "cell_type": "markdown",
   "id": "6fc07ae0",
   "metadata": {},
   "source": [
    "In the given code, a global variable X is defined and assigned the value \"iNeuron\". Then, a function named func() is defined. Within func(), there is another nested function named nested(), which is defined inside func().\n",
    "\n",
    "When the function func() is called, it assigns the value \"NI\" to a local variable X within its own scope using the assignment statement X = 'NI'. This local variable X is separate and independent from the global variable X.\n",
    "\n",
    "Inside the nested() function, when print(X) is executed, it looks for the value of X within its own scope first. However, since X is not defined in the nested() function's scope, it looks for the value in the next outer scope, which is the func() function's scope. In the func() function's scope, X is defined as a local variable with the value \"NI\". Therefore, print(X) will output \"NI\".\n",
    "\n",
    "After calling func(), when X is printed outside the function, it refers to the global variable X, which remains unchanged and holds the value \"iNeuron\". Thus, the final output will be \"iNeuron\".\n",
    "\n",
    "\n",
    "\n",
    "\n",
    "\n",
    "\n"
   ]
  },
  {
   "cell_type": "code",
   "execution_count": null,
   "id": "41459576",
   "metadata": {},
   "outputs": [],
   "source": []
  },
  {
   "cell_type": "markdown",
   "id": "ecf42a21",
   "metadata": {},
   "source": [
    "Q6. How about this code: what is its output in Python 3, and explain?\n",
    "\n",
    "&gt;&gt;&gt; def func():\n",
    "X = &#39;NI&#39;\n",
    "def nested():\n",
    "nonlocal X\n",
    "X = &#39;Spam&#39;\n",
    "nested()\n",
    "print(X)\n",
    "\n",
    "&gt;&gt;&gt; func()"
   ]
  },
  {
   "cell_type": "code",
   "execution_count": 17,
   "id": "dc5d8dad",
   "metadata": {},
   "outputs": [],
   "source": [
    "def func(): \n",
    "    X = 'NI' \n",
    "    def nested(): \n",
    "        nonlocal X \n",
    "        X = 'Spam' \n",
    "        nested() \n",
    "        print(X)\n",
    "\n",
    "func()"
   ]
  },
  {
   "cell_type": "code",
   "execution_count": null,
   "id": "e8788b7a",
   "metadata": {},
   "outputs": [],
   "source": [
    "def func(): X = 'NI' def nested(): nonlocal X X = 'Spam' nested() print(X)\n",
    "\n",
    ">>> func()"
   ]
  },
  {
   "cell_type": "markdown",
   "id": "b9939b58",
   "metadata": {},
   "source": [
    "In the given code, a function named func() is defined. Within func(), there is another nested function named nested().\n",
    "\n",
    "When the nested() function is defined, it uses the nonlocal keyword to indicate that the variable X being referenced is in the nearest enclosing scope that is not the global scope, which in this case is the scope of the func() function.\n",
    "\n",
    "Inside the nested() function, nonlocal X is used to access and modify the variable X from the enclosing scope of func(). So when the line X = 'Spam' is executed within nested(), it updates the value of X in the func() function's scope to \"Spam\".\n",
    "\n",
    "After modifying X in the nested() function, the control returns to the func() function, and the next line print(X) is executed. At this point, the value of X in the func() function's scope has been changed to \"Spam\". Therefore, print(X) will output \"Spam\".\n",
    "\n",
    "Hence, the final output of the code will be \"Spam\"."
   ]
  },
  {
   "cell_type": "code",
   "execution_count": null,
   "id": "a00ee57f",
   "metadata": {},
   "outputs": [],
   "source": []
  },
  {
   "cell_type": "code",
   "execution_count": null,
   "id": "27e324a0",
   "metadata": {},
   "outputs": [],
   "source": []
  }
 ],
 "metadata": {
  "kernelspec": {
   "display_name": "Python 3 (ipykernel)",
   "language": "python",
   "name": "python3"
  },
  "language_info": {
   "codemirror_mode": {
    "name": "ipython",
    "version": 3
   },
   "file_extension": ".py",
   "mimetype": "text/x-python",
   "name": "python",
   "nbconvert_exporter": "python",
   "pygments_lexer": "ipython3",
   "version": "3.9.12"
  }
 },
 "nbformat": 4,
 "nbformat_minor": 5
}

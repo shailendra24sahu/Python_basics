{
 "cells": [
  {
   "cell_type": "markdown",
   "id": "7cabaee0",
   "metadata": {},
   "source": [
    "Q1. To what does a relative path refer?"
   ]
  },
  {
   "cell_type": "markdown",
   "id": "57268965",
   "metadata": {},
   "source": [
    "In Python, a relative path refers to a file or directory path that is specified relative to the current working directory. The current working directory is the directory from which the Python script is being executed.\n",
    "\n",
    "A relative path does not start with the root directory but instead provides a path relative to the current location. It can be used to navigate and locate files and directories within the current working directory or its subdirectories.\n",
    "\n",
    "Relative paths can have different components, such as directory names and file names, separated by slashes (/) or backslashes (\\) depending on the operating system. Here are a few examples to illustrate relative paths:\n",
    "\n",
    "- `file.txt`: Refers to a file named \"file.txt\" in the current working directory.\n",
    "- `subdirectory/file.txt`: Refers to a file named \"file.txt\" located in a subdirectory within the current working directory.\n",
    "- `../parent_directory/file.txt`: Refers to a file named \"file.txt\" located in a parent directory (one level up) from the current working directory.\n",
    "\n",
    "When working with relative paths, it's important to keep in mind the current working directory as it determines the starting point for resolving the path."
   ]
  },
  {
   "cell_type": "code",
   "execution_count": null,
   "id": "dfca8c72",
   "metadata": {},
   "outputs": [],
   "source": []
  },
  {
   "cell_type": "markdown",
   "id": "6a9e88fc",
   "metadata": {},
   "source": [
    "Q2. What does an absolute path start with your operating system?"
   ]
  },
  {
   "cell_type": "markdown",
   "id": "f37a3357",
   "metadata": {},
   "source": [
    "In most operating systems, including Windows, macOS, and Linux, an absolute path starts with the root directory of the file system. The root directory is the highest level directory in the file system hierarchy.\n",
    "\n",
    "On Windows, an absolute path typically starts with a drive letter followed by a colon (e.g., C:) or with a double backslash (e.g., \\\\server\\share) for network paths. After the drive letter or network path, the absolute path specifies the complete path to the file or directory, including all directories and subdirectories leading to the target location. For example:\n",
    "\n",
    "C:\\Users\\Username\\Documents\\file.txt: Absolute path to a file named \"file.txt\" located in the \"Documents\" directory of the user's home directory on the C drive."
   ]
  },
  {
   "cell_type": "code",
   "execution_count": null,
   "id": "eae13704",
   "metadata": {},
   "outputs": [],
   "source": []
  },
  {
   "cell_type": "markdown",
   "id": "3c8aeffd",
   "metadata": {},
   "source": [
    "Q3. What do the functions os.getcwd() and os.chdir() do?"
   ]
  },
  {
   "cell_type": "markdown",
   "id": "2d2002cd",
   "metadata": {},
   "source": [
    "In Python, the `os.getcwd()` and `os.chdir()` functions are part of the `os` module, which provides a way to interact with the operating system. Here's what each function does:\n",
    "\n",
    "1. `os.getcwd()`: This function returns the current working directory (CWD) as a string. The current working directory is the directory from which the Python script is being executed. It represents the default location where the script looks for files and where new files are created if no path is specified. \n",
    "\n",
    "   Example usage:\n",
    "   ```python\n",
    "   import os\n",
    "   \n",
    "   current_dir = os.getcwd()\n",
    "   print(current_dir)\n",
    "   ```\n",
    "\n",
    "   Output:\n",
    "   ```\n",
    "   /path/to/current/directory\n",
    "   ```\n",
    "\n",
    "2. `os.chdir(path)`: This function changes the current working directory to the specified path. The `path` parameter represents the directory path to which we want to switch. Once `os.chdir()` is called, all subsequent file operations (e.g., opening, reading, writing) will be relative to the new working directory.\n",
    "\n",
    "   Example usage:\n",
    "   ```python\n",
    "   import os\n",
    "   \n",
    "   os.chdir('/path/to/new/directory')\n",
    "   ```\n",
    "\n",
    "   After executing the above code, the current working directory will be changed to `/path/to/new/directory`, and any subsequent file operations will be relative to that directory.\n",
    "\n",
    "These functions are useful when we need to navigate and work with files and directories in different locations on the file system within  Python script."
   ]
  },
  {
   "cell_type": "code",
   "execution_count": null,
   "id": "5fd50665",
   "metadata": {},
   "outputs": [],
   "source": []
  },
  {
   "cell_type": "markdown",
   "id": "cef561ea",
   "metadata": {},
   "source": [
    "Q4. What are the . and .. folders?"
   ]
  },
  {
   "cell_type": "markdown",
   "id": "f5ac30f5",
   "metadata": {},
   "source": [
    "In most operating systems, the `.` and `..` folders are special directory references that have specific meanings:\n",
    "\n",
    "1. `.` (dot): In the context of file systems, the `.` refers to the current directory. It is a shorthand way to represent the directory we are currently in. For example, if our current working directory is `/path/to/current/directory`, then `.` refers to `/path/to/current/directory` itself.\n",
    "\n",
    "2. `..` (dot-dot): The `..` refers to the parent directory of the current directory. It is used to navigate up one level in the directory hierarchy. For example, if our current working directory is `/path/to/current/directory`, then `..` refers to `/path/to/`, which is the parent directory.\n",
    "\n",
    "These special directory references are often used in file system navigation and file paths to refer to relative locations. Here are a few examples to illustrate their usage:\n",
    "\n",
    "- `/path/to/current/directory/.`: Refers to the current directory itself, so it is equivalent to `/path/to/current/directory`.\n",
    "- `/path/to/current/directory/..`: Refers to the parent directory, so it is equivalent to `/path/to/`.\n",
    "- `/path/to/current/directory/../file.txt`: Refers to a file named \"file.txt\" in the parent directory of the current directory.\n",
    "\n",
    "Using `.` and `..` allows us to navigate and reference directories relative to our current location in the file system hierarchy."
   ]
  },
  {
   "cell_type": "code",
   "execution_count": null,
   "id": "31ce373d",
   "metadata": {},
   "outputs": [],
   "source": []
  },
  {
   "cell_type": "markdown",
   "id": "e71eb53f",
   "metadata": {},
   "source": [
    "Q5. In C:\\bacon\\eggs\\spam.txt, which part is the dir name, and which part is the base name?"
   ]
  },
  {
   "cell_type": "markdown",
   "id": "13fb0091",
   "metadata": {},
   "source": [
    "In the path C:\\bacon\\eggs\\spam.txt, the directory name and the base name can be identified as follows:\n",
    "\n",
    "Directory Name: C:\\bacon\\eggs\n",
    "\n",
    "The directory name refers to the path of the directory that contains the file. In this case, the directory name is C:\\bacon\\eggs. It includes all the directories in the path leading up to the file.\n",
    "\n",
    "Base Name: spam.txt\n",
    "\n",
    "The base name refers to the name of the file itself without the directory path. In this case, the base name is spam.txt. It represents the actual name of the file."
   ]
  },
  {
   "cell_type": "code",
   "execution_count": null,
   "id": "71dd3419",
   "metadata": {},
   "outputs": [],
   "source": []
  },
  {
   "cell_type": "markdown",
   "id": "76449176",
   "metadata": {},
   "source": [
    "Q6. What are the three “mode” arguments that can be passed to the open() function?"
   ]
  },
  {
   "cell_type": "markdown",
   "id": "f12f99bb",
   "metadata": {},
   "source": [
    "The `open()` function in Python accepts several arguments, but the three commonly used \"mode\" arguments that can be passed to the `open()` function are:\n",
    "\n",
    "1. \"r\" (Read Mode):\n",
    "   The \"r\" mode is used to open a file for reading. It is the default mode if no mode is specified. With this mode, we can read the contents of an existing file. If the file does not exist, it will raise a `FileNotFoundError`. Example:\n",
    "\n",
    "   ```python\n",
    "   file = open(\"filename.txt\", \"r\")\n",
    "   ```\n",
    "\n",
    "2. \"w\" (Write Mode):\n",
    "   The \"w\" mode is used to open a file for writing. It creates a new file if it doesn't exist, or truncates (empties) the file if it already exists. Be cautious because using \"w\" mode will erase the existing content of the file. Example:\n",
    "\n",
    "   ```python\n",
    "   file = open(\"filename.txt\", \"w\")\n",
    "   ```\n",
    "\n",
    "3. \"a\" (Append Mode):\n",
    "   The \"a\" mode is used to open a file for appending. It creates a new file if it doesn't exist. If the file exists, the new data will be appended at the end of the file, preserving the existing content. Example:\n",
    "\n",
    "   ```python\n",
    "   file = open(\"filename.txt\", \"a\")\n",
    "   ```\n",
    "\n",
    "These modes determine how the file will be accessed and modified. It's important to handle files carefully and close them after use using the `file.close()` method or by using the `with` statement to ensure proper file handling and resource management."
   ]
  },
  {
   "cell_type": "code",
   "execution_count": null,
   "id": "8d19c464",
   "metadata": {},
   "outputs": [],
   "source": []
  },
  {
   "cell_type": "markdown",
   "id": "a876d1ce",
   "metadata": {},
   "source": [
    "Q7. What happens if an existing file is opened in write mode?"
   ]
  },
  {
   "cell_type": "markdown",
   "id": "4413cd41",
   "metadata": {},
   "source": [
    "If an existing file is opened in write mode (\"w\") in Python, the following will happen:\n",
    "\n",
    "- If the file exists:\n",
    "\n",
    "Opening the file in write mode will truncate (i.e., empty) the existing content of the file, making it completely empty.\n",
    "The file pointer will be positioned at the beginning of the file.\n",
    "The file will be ready to accept new data that we write to it.\n",
    "\n",
    "- If the file does not exist:\n",
    "\n",
    "Opening the file in write mode will create a new file with the specified name.\n",
    "The file will be empty, and the file pointer will be positioned at the beginning of the file.\n",
    "The new file will be ready to accept data that we write to it."
   ]
  },
  {
   "cell_type": "code",
   "execution_count": null,
   "id": "7b077d6e",
   "metadata": {},
   "outputs": [],
   "source": []
  },
  {
   "cell_type": "markdown",
   "id": "c5e8c595",
   "metadata": {},
   "source": [
    "Q8. How do you tell the difference between read() and readlines()?"
   ]
  },
  {
   "cell_type": "markdown",
   "id": "05517491",
   "metadata": {},
   "source": [
    "In Python, the `read()` and `readlines()` methods are used to read data from a file, but they have different behaviors:\n",
    "\n",
    "1. `read()`: \n",
    "   - The `read()` method is used to read the entire content of a file as a single string.\n",
    "   - It reads all characters from the current file position until the end of the file or until a specified number of characters (bytes) are read if an argument is provided.\n",
    "   - The returned string will include newline characters ('\\n') if they exist in the file.\n",
    "   - If we call `read()` multiple times without repositioning the file pointer, it will continue reading from where it left off.\n",
    "   - Example usage:\n",
    "\n",
    "     ```python\n",
    "     file = open(\"filename.txt\", \"r\")\n",
    "     content = file.read()\n",
    "     file.close()\n",
    "     ```\n",
    "\n",
    "2. `readlines()`:\n",
    "   - The `readlines()` method is used to read the entire content of a file line by line and returns a list of strings, where each string represents a line from the file.\n",
    "   - It reads all lines from the current file position until the end of the file.\n",
    "   - Each line in the list will include the newline character ('\\n') at the end, except for the last line if it doesn't end with a newline character.\n",
    "   - If we call `readlines()` multiple times without repositioning the file pointer, it will continue reading from where it left off.\n",
    "   - Example usage:\n",
    "\n",
    "     ```python\n",
    "     file = open(\"filename.txt\", \"r\")\n",
    "     lines = file.readlines()\n",
    "     file.close()\n",
    "     ```"
   ]
  },
  {
   "cell_type": "code",
   "execution_count": null,
   "id": "ad5fefea",
   "metadata": {},
   "outputs": [],
   "source": []
  },
  {
   "cell_type": "markdown",
   "id": "168c8c83",
   "metadata": {},
   "source": [
    "Q9. What data structure does a shelf value resemble?"
   ]
  },
  {
   "cell_type": "markdown",
   "id": "10a41ca4",
   "metadata": {},
   "source": [
    "In Python, the `shelf` module provides a built-in dictionary-like data structure called a \"shelf,\" which resembles a persistent, dictionary-like object. The shelf data structure is used for storing and accessing key-value pairs, similar to a dictionary, but with the added benefit of being persistent, meaning it can be stored on disk and retrieved later.\n",
    "\n",
    "A shelf value resembles a dictionary, as it supports key-value pair operations such as insertion, retrieval, and deletion. we can use keys to access corresponding values, and the values can be of any picklable Python object (objects that can be serialized using the `pickle` module).\n",
    "\n",
    "Here's an example demonstrating the usage of a shelf:\n",
    "\n",
    "```python\n",
    "import shelve\n",
    "\n",
    "# Open a shelf file\n",
    "shelf_file = shelve.open('my_shelf')\n",
    "\n",
    "# Insert key-value pairs into the shelf\n",
    "shelf_file['key1'] = 'value1'\n",
    "shelf_file['key2'] = 'value2'\n",
    "shelf_file['key3'] = 'value3'\n",
    "\n",
    "# Retrieve values from the shelf\n",
    "value1 = shelf_file['key1']\n",
    "value2 = shelf_file['key2']\n",
    "value3 = shelf_file['key3']\n",
    "\n",
    "# Modify a value in the shelf\n",
    "shelf_file['key1'] = 'updated_value1'\n",
    "\n",
    "# Delete a key-value pair from the shelf\n",
    "del shelf_file['key2']\n",
    "\n",
    "# Close the shelf file\n",
    "shelf_file.close()\n",
    "```\n",
    "\n",
    "In the example above, the `shelf_file` object behaves like a dictionary, allowing we to store, retrieve, modify, and delete key-value pairs. The shelf data structure is commonly used for persistently storing and managing data across multiple program executions."
   ]
  }
 ],
 "metadata": {
  "kernelspec": {
   "display_name": "Python 3 (ipykernel)",
   "language": "python",
   "name": "python3"
  },
  "language_info": {
   "codemirror_mode": {
    "name": "ipython",
    "version": 3
   },
   "file_extension": ".py",
   "mimetype": "text/x-python",
   "name": "python",
   "nbconvert_exporter": "python",
   "pygments_lexer": "ipython3",
   "version": "3.9.12"
  }
 },
 "nbformat": 4,
 "nbformat_minor": 5
}
